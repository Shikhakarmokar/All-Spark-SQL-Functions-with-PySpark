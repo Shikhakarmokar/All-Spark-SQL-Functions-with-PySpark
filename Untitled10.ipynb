{
  "nbformat": 4,
  "nbformat_minor": 0,
  "metadata": {
    "colab": {
      "provenance": []
    },
    "kernelspec": {
      "name": "python3",
      "display_name": "Python 3"
    },
    "language_info": {
      "name": "python"
    }
  },
  "cells": [
    {
      "cell_type": "code",
      "execution_count": null,
      "metadata": {
        "colab": {
          "base_uri": "https://localhost:8080/"
        },
        "id": "hr2ISiPQO3fz",
        "outputId": "31e4cd08-7a87-4d53-bb80-d788ec7e9b07"
      },
      "outputs": [
        {
          "output_type": "stream",
          "name": "stdout",
          "text": [
            "Collecting pyspark\n",
            "  Downloading pyspark-3.5.2.tar.gz (317.3 MB)\n",
            "\u001b[2K     \u001b[90m━━━━━━━━━━━━━━━━━━━━━━━━━━━━━━━━━━━━━━━━\u001b[0m \u001b[32m317.3/317.3 MB\u001b[0m \u001b[31m1.4 MB/s\u001b[0m eta \u001b[36m0:00:00\u001b[0m\n",
            "\u001b[?25h  Preparing metadata (setup.py) ... \u001b[?25l\u001b[?25hdone\n",
            "Requirement already satisfied: py4j==0.10.9.7 in /usr/local/lib/python3.10/dist-packages (from pyspark) (0.10.9.7)\n",
            "Building wheels for collected packages: pyspark\n",
            "  Building wheel for pyspark (setup.py) ... \u001b[?25l\u001b[?25hdone\n",
            "  Created wheel for pyspark: filename=pyspark-3.5.2-py2.py3-none-any.whl size=317812365 sha256=bffc9e937b38229e205f8118a1640a660602983972a7c232db318014d33e24b5\n",
            "  Stored in directory: /root/.cache/pip/wheels/34/34/bd/03944534c44b677cd5859f248090daa9fb27b3c8f8e5f49574\n",
            "Successfully built pyspark\n",
            "Installing collected packages: pyspark\n",
            "Successfully installed pyspark-3.5.2\n"
          ]
        }
      ],
      "source": [
        "pip install pyspark"
      ]
    },
    {
      "cell_type": "code",
      "source": [
        "from pyspark.sql import SparkSession\n",
        "from pyspark.sql.functions import lit\n",
        "from datetime import datetime"
      ],
      "metadata": {
        "id": "DLblZIaGPBwM"
      },
      "execution_count": null,
      "outputs": []
    },
    {
      "cell_type": "code",
      "source": [
        "spark_shikha = SparkSession.builder.appName(\"PysparkSQLFunctions\").getOrCreate()"
      ],
      "metadata": {
        "id": "VHw6jVsSO6vr"
      },
      "execution_count": null,
      "outputs": []
    },
    {
      "cell_type": "code",
      "source": [
        "spark_shikha"
      ],
      "metadata": {
        "colab": {
          "base_uri": "https://localhost:8080/",
          "height": 219
        },
        "id": "72US_hJHPi-D",
        "outputId": "1df6cb18-447f-4040-877f-4893748f1878"
      },
      "execution_count": null,
      "outputs": [
        {
          "output_type": "execute_result",
          "data": {
            "text/plain": [
              "<pyspark.sql.session.SparkSession at 0x7ca25e9e6ad0>"
            ],
            "text/html": [
              "\n",
              "            <div>\n",
              "                <p><b>SparkSession - in-memory</b></p>\n",
              "                \n",
              "        <div>\n",
              "            <p><b>SparkContext</b></p>\n",
              "\n",
              "            <p><a href=\"http://89d0cf39590b:4040\">Spark UI</a></p>\n",
              "\n",
              "            <dl>\n",
              "              <dt>Version</dt>\n",
              "                <dd><code>v3.5.2</code></dd>\n",
              "              <dt>Master</dt>\n",
              "                <dd><code>local[*]</code></dd>\n",
              "              <dt>AppName</dt>\n",
              "                <dd><code>PysparkSQLFunctions</code></dd>\n",
              "            </dl>\n",
              "        </div>\n",
              "        \n",
              "            </div>\n",
              "        "
            ]
          },
          "metadata": {},
          "execution_count": 6
        }
      ]
    },
    {
      "cell_type": "code",
      "source": [
        "data_shikha = [(1,\"shikhakarmokar\",\"2024-08-01\",14,1000.50),\n",
        "              (2,\"adithya ramakrishnan\",\"2024-08-02\",25,2000.75),\n",
        "              (3,\"aditee patil\",\"2024-08-03\",20,3000.10),\n",
        "              (4,\"Bhavana Mishra\",\"2024-08-04\",15,4000.25),\n",
        "              (5,\"Preeti upadhya\",\"2024-08-05\",30,1500.30),\n",
        "              (6,\"jhon snow\",\"2024-08-06\",32,2500.45)]"
      ],
      "metadata": {
        "id": "RyWrFGLwPkqS"
      },
      "execution_count": null,
      "outputs": []
    },
    {
      "cell_type": "code",
      "source": [
        "columns_shikha = [\"id\",\"name\",\"dob\",\"age\",\"salary\"]\n",
        "df_shikha = spark_shikha.createDataFrame(data_shikha,columns_shikha)\n",
        "df_shikha.show()"
      ],
      "metadata": {
        "colab": {
          "base_uri": "https://localhost:8080/"
        },
        "id": "NZK5ElViPnqi",
        "outputId": "082517c9-2bfa-45f8-abe4-d7ea07d1553e"
      },
      "execution_count": null,
      "outputs": [
        {
          "output_type": "stream",
          "name": "stdout",
          "text": [
            "+---+--------------------+----------+---+-------+\n",
            "| id|                name|       dob|age| salary|\n",
            "+---+--------------------+----------+---+-------+\n",
            "|  1|      shikhakarmokar|2024-08-01| 14| 1000.5|\n",
            "|  2|adithya ramakrishnan|2024-08-02| 25|2000.75|\n",
            "|  3|        aditee patil|2024-08-03| 20| 3000.1|\n",
            "|  4|      Bhavana Mishra|2024-08-04| 15|4000.25|\n",
            "|  5|      Preeti upadhya|2024-08-05| 30| 1500.3|\n",
            "|  6|           jhon snow|2024-08-06| 32|2500.45|\n",
            "+---+--------------------+----------+---+-------+\n",
            "\n"
          ]
        }
      ]
    },
    {
      "cell_type": "code",
      "source": [
        "from pyspark.sql.functions import col\n",
        "df_shikha.select(col(\"name\")).show()"
      ],
      "metadata": {
        "colab": {
          "base_uri": "https://localhost:8080/"
        },
        "id": "exEjhffoPpp6",
        "outputId": "66cf5d90-4a38-4be9-d715-3f41be2666f5"
      },
      "execution_count": null,
      "outputs": [
        {
          "output_type": "stream",
          "name": "stdout",
          "text": [
            "+--------------------+\n",
            "|                name|\n",
            "+--------------------+\n",
            "|      shikhakarmokar|\n",
            "|adithya ramakrishnan|\n",
            "|        aditee patil|\n",
            "|      Bhavana Mishra|\n",
            "|      Preeti upadhya|\n",
            "|           jhon snow|\n",
            "+--------------------+\n",
            "\n"
          ]
        }
      ]
    },
    {
      "cell_type": "code",
      "source": [
        "#lit\n",
        "#Adds a new column with a literal value\n",
        "\n",
        "df_country_shikha = df_shikha.withColumn(\"country\",lit(\"USA\"))\n",
        "df_country_shikha.show()"
      ],
      "metadata": {
        "colab": {
          "base_uri": "https://localhost:8080/"
        },
        "id": "sTxlsFVQPttK",
        "outputId": "a0cdc9e7-af54-4146-89cb-8b758e0a6c7e"
      },
      "execution_count": null,
      "outputs": [
        {
          "output_type": "stream",
          "name": "stdout",
          "text": [
            "+---+--------------------+----------+---+-------+-------+\n",
            "| id|                name|       dob|age| salary|country|\n",
            "+---+--------------------+----------+---+-------+-------+\n",
            "|  1|      shikhakarmokar|2024-08-01| 14| 1000.5|    USA|\n",
            "|  2|adithya ramakrishnan|2024-08-02| 25|2000.75|    USA|\n",
            "|  3|        aditee patil|2024-08-03| 20| 3000.1|    USA|\n",
            "|  4|      Bhavana Mishra|2024-08-04| 15|4000.25|    USA|\n",
            "|  5|      Preeti upadhya|2024-08-05| 30| 1500.3|    USA|\n",
            "|  6|           jhon snow|2024-08-06| 32|2500.45|    USA|\n",
            "+---+--------------------+----------+---+-------+-------+\n",
            "\n"
          ]
        }
      ]
    },
    {
      "cell_type": "code",
      "source": [
        "df_shikha.show()"
      ],
      "metadata": {
        "colab": {
          "base_uri": "https://localhost:8080/"
        },
        "id": "tHgkhlpjQYor",
        "outputId": "a4f14f35-68ce-4416-d4f1-beb023d9aef2"
      },
      "execution_count": null,
      "outputs": [
        {
          "output_type": "stream",
          "name": "stdout",
          "text": [
            "+---+--------------------+----------+---+-------+\n",
            "| id|                name|       dob|age| salary|\n",
            "+---+--------------------+----------+---+-------+\n",
            "|  1|      shikhakarmokar|2024-08-01| 14| 1000.5|\n",
            "|  2|adithya ramakrishnan|2024-08-02| 25|2000.75|\n",
            "|  3|        aditee patil|2024-08-03| 20| 3000.1|\n",
            "|  4|      Bhavana Mishra|2024-08-04| 15|4000.25|\n",
            "|  5|      Preeti upadhya|2024-08-05| 30| 1500.3|\n",
            "|  6|           jhon snow|2024-08-06| 32|2500.45|\n",
            "+---+--------------------+----------+---+-------+\n",
            "\n"
          ]
        }
      ]
    },
    {
      "cell_type": "code",
      "source": [
        "#expr\n",
        "#adds 5 to the \"age\" column.\n",
        "\n",
        "from pyspark.sql.functions import expr\n",
        "\n",
        "df_age_shikha = df_shikha.withColumn(\"age_plus_5\",expr(\"age + 5\"))\n",
        "df_age_shikha.show()"
      ],
      "metadata": {
        "colab": {
          "base_uri": "https://localhost:8080/"
        },
        "id": "d_doxi4fQdiB",
        "outputId": "ca717636-424a-4eb4-c6c9-d496b01c987f"
      },
      "execution_count": null,
      "outputs": [
        {
          "output_type": "stream",
          "name": "stdout",
          "text": [
            "+---+--------------------+----------+---+-------+----------+\n",
            "| id|                name|       dob|age| salary|age_plus_5|\n",
            "+---+--------------------+----------+---+-------+----------+\n",
            "|  1|      shikhakarmokar|2024-08-01| 14| 1000.5|        19|\n",
            "|  2|adithya ramakrishnan|2024-08-02| 25|2000.75|        30|\n",
            "|  3|        aditee patil|2024-08-03| 20| 3000.1|        25|\n",
            "|  4|      Bhavana Mishra|2024-08-04| 15|4000.25|        20|\n",
            "|  5|      Preeti upadhya|2024-08-05| 30| 1500.3|        35|\n",
            "|  6|           jhon snow|2024-08-06| 32|2500.45|        37|\n",
            "+---+--------------------+----------+---+-------+----------+\n",
            "\n"
          ]
        }
      ]
    },
    {
      "cell_type": "code",
      "source": [
        "#when\n",
        "#classifies people as \"Adult\" or \"Minor\"\n",
        "\n",
        "from pyspark.sql.functions import when\n",
        "df_classification_shikha = df_shikha.withColumn(\"classification\",when(col(\"age\")>=18,\"Adult\").otherwise(\"Minor\"))\n",
        "df_classification_shikha.show()"
      ],
      "metadata": {
        "colab": {
          "base_uri": "https://localhost:8080/"
        },
        "id": "5z4q-d-zQ92D",
        "outputId": "c15356ce-6818-415a-fceb-e1ca68031798"
      },
      "execution_count": null,
      "outputs": [
        {
          "output_type": "stream",
          "name": "stdout",
          "text": [
            "+---+--------------------+----------+---+-------+--------------+\n",
            "| id|                name|       dob|age| salary|classification|\n",
            "+---+--------------------+----------+---+-------+--------------+\n",
            "|  1|      shikhakarmokar|2024-08-01| 14| 1000.5|         Minor|\n",
            "|  2|adithya ramakrishnan|2024-08-02| 25|2000.75|         Adult|\n",
            "|  3|        aditee patil|2024-08-03| 20| 3000.1|         Adult|\n",
            "|  4|      Bhavana Mishra|2024-08-04| 15|4000.25|         Minor|\n",
            "|  5|      Preeti upadhya|2024-08-05| 30| 1500.3|         Adult|\n",
            "|  6|           jhon snow|2024-08-06| 32|2500.45|         Adult|\n",
            "+---+--------------------+----------+---+-------+--------------+\n",
            "\n"
          ]
        }
      ]
    },
    {
      "cell_type": "code",
      "source": [
        "#concat\n",
        "#concatenates first and last names with a space.\n",
        "\n",
        "from pyspark.sql.functions import concat\n",
        "df_concat_shikha = df_shikha.withColumn(\"full_name\",concat(col(\"name\"),lit(\" \")))\n",
        "df_concat_shikha.show()"
      ],
      "metadata": {
        "colab": {
          "base_uri": "https://localhost:8080/"
        },
        "id": "WsMNam3ESDcL",
        "outputId": "af312a32-a2b8-4e57-bbfa-fec5c5ada2e1"
      },
      "execution_count": null,
      "outputs": [
        {
          "output_type": "stream",
          "name": "stdout",
          "text": [
            "+---+--------------------+----------+---+-------+--------------------+\n",
            "| id|                name|       dob|age| salary|           full_name|\n",
            "+---+--------------------+----------+---+-------+--------------------+\n",
            "|  1|      shikhakarmokar|2024-08-01| 14| 1000.5|     shikhakarmokar |\n",
            "|  2|adithya ramakrishnan|2024-08-02| 25|2000.75|adithya ramakrish...|\n",
            "|  3|        aditee patil|2024-08-03| 20| 3000.1|       aditee patil |\n",
            "|  4|      Bhavana Mishra|2024-08-04| 15|4000.25|     Bhavana Mishra |\n",
            "|  5|      Preeti upadhya|2024-08-05| 30| 1500.3|     Preeti upadhya |\n",
            "|  6|           jhon snow|2024-08-06| 32|2500.45|          jhon snow |\n",
            "+---+--------------------+----------+---+-------+--------------------+\n",
            "\n"
          ]
        }
      ]
    },
    {
      "cell_type": "code",
      "source": [
        "#substring\n",
        "#Extracts the first three characters from the \"name\" column.\n",
        "\n",
        "from pyspark.sql.functions import substring\n",
        "df_substring_shikha = df_shikha.withColumn(\"first_three_chars\",substring(col(\"name\"), 1, 3))\n",
        "df_substring_shikha.show()"
      ],
      "metadata": {
        "colab": {
          "base_uri": "https://localhost:8080/"
        },
        "id": "QxpfK4beSkTa",
        "outputId": "adb4d8ff-2c8d-444d-8116-5cb47dcd2386"
      },
      "execution_count": null,
      "outputs": [
        {
          "output_type": "stream",
          "name": "stdout",
          "text": [
            "+---+--------------------+----------+---+-------+-----------------+\n",
            "| id|                name|       dob|age| salary|first_three_chars|\n",
            "+---+--------------------+----------+---+-------+-----------------+\n",
            "|  1|      shikhakarmokar|2024-08-01| 14| 1000.5|              shi|\n",
            "|  2|adithya ramakrishnan|2024-08-02| 25|2000.75|              adi|\n",
            "|  3|        aditee patil|2024-08-03| 20| 3000.1|              adi|\n",
            "|  4|      Bhavana Mishra|2024-08-04| 15|4000.25|              Bha|\n",
            "|  5|      Preeti upadhya|2024-08-05| 30| 1500.3|              Pre|\n",
            "|  6|           jhon snow|2024-08-06| 32|2500.45|              jho|\n",
            "+---+--------------------+----------+---+-------+-----------------+\n",
            "\n"
          ]
        }
      ]
    },
    {
      "cell_type": "code",
      "source": [
        "#split\n",
        "#split the \"name\" column into an array of words.\n",
        "\n",
        "from pyspark.sql.functions import split\n",
        "df_split_shikha = df_shikha.withColumn(\"name_array\",split(col(\"name\"), \" \"))\n",
        "df_split_shikha.show()"
      ],
      "metadata": {
        "colab": {
          "base_uri": "https://localhost:8080/"
        },
        "id": "h4kZgfP3TRBb",
        "outputId": "27bffc7c-85e9-4ae2-9570-06547438519e"
      },
      "execution_count": null,
      "outputs": [
        {
          "output_type": "stream",
          "name": "stdout",
          "text": [
            "+---+--------------------+----------+---+-------+--------------------+\n",
            "| id|                name|       dob|age| salary|          name_array|\n",
            "+---+--------------------+----------+---+-------+--------------------+\n",
            "|  1|      shikhakarmokar|2024-08-01| 14| 1000.5|    [shikhakarmokar]|\n",
            "|  2|adithya ramakrishnan|2024-08-02| 25|2000.75|[adithya, ramakri...|\n",
            "|  3|        aditee patil|2024-08-03| 20| 3000.1|     [aditee, patil]|\n",
            "|  4|      Bhavana Mishra|2024-08-04| 15|4000.25|   [Bhavana, Mishra]|\n",
            "|  5|      Preeti upadhya|2024-08-05| 30| 1500.3|   [Preeti, upadhya]|\n",
            "|  6|           jhon snow|2024-08-06| 32|2500.45|        [jhon, snow]|\n",
            "+---+--------------------+----------+---+-------+--------------------+\n",
            "\n"
          ]
        }
      ]
    },
    {
      "cell_type": "code",
      "source": [
        "#regexp_replace\n",
        "\n",
        "from pyspark.sql.functions import regexp_replace\n",
        "df_replace_shikha = df_shikha.withColumn(\"replaced_name\",regexp_replace(col(\"name\"),\"jhon\",\"john\"))\n",
        "df_replace_shikha.show()"
      ],
      "metadata": {
        "colab": {
          "base_uri": "https://localhost:8080/"
        },
        "id": "OwkxKto9T_bk",
        "outputId": "fa0a27b0-4233-4a42-8386-86af5a28f780"
      },
      "execution_count": null,
      "outputs": [
        {
          "output_type": "stream",
          "name": "stdout",
          "text": [
            "+---+--------------------+----------+---+-------+--------------------+\n",
            "| id|                name|       dob|age| salary|       replaced_name|\n",
            "+---+--------------------+----------+---+-------+--------------------+\n",
            "|  1|      shikhakarmokar|2024-08-01| 14| 1000.5|      shikhakarmokar|\n",
            "|  2|adithya ramakrishnan|2024-08-02| 25|2000.75|adithya ramakrishnan|\n",
            "|  3|        aditee patil|2024-08-03| 20| 3000.1|        aditee patil|\n",
            "|  4|      Bhavana Mishra|2024-08-04| 15|4000.25|      Bhavana Mishra|\n",
            "|  5|      Preeti upadhya|2024-08-05| 30| 1500.3|      Preeti upadhya|\n",
            "|  6|           jhon snow|2024-08-06| 32|2500.45|           john snow|\n",
            "+---+--------------------+----------+---+-------+--------------------+\n",
            "\n"
          ]
        }
      ]
    },
    {
      "cell_type": "code",
      "source": [
        "#count\n",
        "#counts the number of records in the dataframe\n",
        "\n",
        "from pyspark.sql.functions import count\n",
        "df_count_shikha = df_shikha.agg(count(\"*\").alias(\"total_count\"))\n",
        "df_count_shikha.show()"
      ],
      "metadata": {
        "colab": {
          "base_uri": "https://localhost:8080/"
        },
        "id": "qsg9dhM3UmxD",
        "outputId": "1ea7148e-d8dd-40ec-f245-332e9e1da67e"
      },
      "execution_count": null,
      "outputs": [
        {
          "output_type": "stream",
          "name": "stdout",
          "text": [
            "+-----------+\n",
            "|total_count|\n",
            "+-----------+\n",
            "|          6|\n",
            "+-----------+\n",
            "\n"
          ]
        }
      ]
    },
    {
      "cell_type": "code",
      "source": [
        "#sum\n",
        "#calculates the total salary\n",
        "\n",
        "from pyspark.sql.functions import sum\n",
        "df_sum_shikha = df_shikha.agg(sum(\"salary\").alias(\"total_salary\"))\n",
        "df_sum_shikha.show()"
      ],
      "metadata": {
        "colab": {
          "base_uri": "https://localhost:8080/"
        },
        "id": "qNm2mPvPVGWU",
        "outputId": "110f93af-2629-46d1-e89b-28b76a61d1bc"
      },
      "execution_count": null,
      "outputs": [
        {
          "output_type": "stream",
          "name": "stdout",
          "text": [
            "+------------+\n",
            "|total_salary|\n",
            "+------------+\n",
            "|    14002.35|\n",
            "+------------+\n",
            "\n"
          ]
        }
      ]
    },
    {
      "cell_type": "code",
      "source": [
        "#avg\n",
        "#calculates the average age\n",
        "\n",
        "from pyspark.sql.functions import avg\n",
        "df_avg_shikha = df_shikha.agg(avg(\"age\").alias(\"average_age\"))\n",
        "df_avg_shikha.show()"
      ],
      "metadata": {
        "colab": {
          "base_uri": "https://localhost:8080/"
        },
        "id": "IbsHTA6AVeM8",
        "outputId": "01babedd-f224-4bfc-e853-58743bee8da4"
      },
      "execution_count": null,
      "outputs": [
        {
          "output_type": "stream",
          "name": "stdout",
          "text": [
            "+------------------+\n",
            "|       average_age|\n",
            "+------------------+\n",
            "|22.666666666666668|\n",
            "+------------------+\n",
            "\n"
          ]
        }
      ]
    },
    {
      "cell_type": "code",
      "source": [
        "#max\n",
        "#finds the maximum salary\n",
        "\n",
        "from pyspark.sql.functions import max\n",
        "df_max_shikha = df_shikha.agg(max(\"salary\").alias(\"max_salary\"))\n",
        "df_max_shikha.show()"
      ],
      "metadata": {
        "colab": {
          "base_uri": "https://localhost:8080/"
        },
        "id": "Fmm-EfNBV1hr",
        "outputId": "b1fdf7ab-d047-4d8c-ed48-0656080ee9b8"
      },
      "execution_count": null,
      "outputs": [
        {
          "output_type": "stream",
          "name": "stdout",
          "text": [
            "+----------+\n",
            "|max_salary|\n",
            "+----------+\n",
            "|   4000.25|\n",
            "+----------+\n",
            "\n"
          ]
        }
      ]
    },
    {
      "cell_type": "code",
      "source": [
        "#min\n",
        "#finds the minimum age\n",
        "\n",
        "from pyspark.sql.functions import min\n",
        "df_min_shikha = df_shikha.agg(min(\"age\").alias(\"min_age\"))\n",
        "df_min_shikha.show()"
      ],
      "metadata": {
        "colab": {
          "base_uri": "https://localhost:8080/"
        },
        "id": "NL0-wVarWJTE",
        "outputId": "a587448c-759c-4a03-909b-09cb876d967a"
      },
      "execution_count": null,
      "outputs": [
        {
          "output_type": "stream",
          "name": "stdout",
          "text": [
            "+-------+\n",
            "|min_age|\n",
            "+-------+\n",
            "|     14|\n",
            "+-------+\n",
            "\n"
          ]
        }
      ]
    },
    {
      "cell_type": "code",
      "source": [
        "#round\n",
        "#rounds the salary to the nearest integer\n",
        "\n",
        "from pyspark.sql.functions import round\n",
        "df_round_shikha = df_shikha.withColumn(\"rounded_salary\",round(col(\"salary\"), 0))\n",
        "df_round_shikha.show()"
      ],
      "metadata": {
        "colab": {
          "base_uri": "https://localhost:8080/"
        },
        "id": "aMjqOBdgW_IM",
        "outputId": "e30b41b8-e31a-453c-f59b-da9302c383df"
      },
      "execution_count": null,
      "outputs": [
        {
          "output_type": "stream",
          "name": "stdout",
          "text": [
            "+---+--------------------+----------+---+-------+--------------+\n",
            "| id|                name|       dob|age| salary|rounded_salary|\n",
            "+---+--------------------+----------+---+-------+--------------+\n",
            "|  1|      shikhakarmokar|2024-08-01| 14| 1000.5|        1001.0|\n",
            "|  2|adithya ramakrishnan|2024-08-02| 25|2000.75|        2001.0|\n",
            "|  3|        aditee patil|2024-08-03| 20| 3000.1|        3000.0|\n",
            "|  4|      Bhavana Mishra|2024-08-04| 15|4000.25|        4000.0|\n",
            "|  5|      Preeti upadhya|2024-08-05| 30| 1500.3|        1500.0|\n",
            "|  6|           jhon snow|2024-08-06| 32|2500.45|        2500.0|\n",
            "+---+--------------------+----------+---+-------+--------------+\n",
            "\n"
          ]
        }
      ]
    },
    {
      "cell_type": "code",
      "source": [
        "#date_format\n",
        "\n",
        "from pyspark.sql.functions import date_format\n",
        "df_date_format_shikha = df_shikha.withColumn(\"formatted_dob\",date_format(col(\"dob\"),\"MM/dd/yyyy\"))\n",
        "df_date_format_shikha.show()"
      ],
      "metadata": {
        "colab": {
          "base_uri": "https://localhost:8080/"
        },
        "id": "B6O9QABxXbDT",
        "outputId": "9234b217-c1e7-4323-d790-f9b7cef275a8"
      },
      "execution_count": null,
      "outputs": [
        {
          "output_type": "stream",
          "name": "stdout",
          "text": [
            "+---+--------------------+----------+---+-------+-------------+\n",
            "| id|                name|       dob|age| salary|formatted_dob|\n",
            "+---+--------------------+----------+---+-------+-------------+\n",
            "|  1|      shikhakarmokar|2024-08-01| 14| 1000.5|   08/01/2024|\n",
            "|  2|adithya ramakrishnan|2024-08-02| 25|2000.75|   08/02/2024|\n",
            "|  3|        aditee patil|2024-08-03| 20| 3000.1|   08/03/2024|\n",
            "|  4|      Bhavana Mishra|2024-08-04| 15|4000.25|   08/04/2024|\n",
            "|  5|      Preeti upadhya|2024-08-05| 30| 1500.3|   08/05/2024|\n",
            "|  6|           jhon snow|2024-08-06| 32|2500.45|   08/06/2024|\n",
            "+---+--------------------+----------+---+-------+-------------+\n",
            "\n"
          ]
        }
      ]
    },
    {
      "cell_type": "code",
      "source": [
        "#current_date\n",
        "#adds the current date to the DataFrame\n",
        "\n",
        "from pyspark.sql.functions import current_date\n",
        "df_current_date_shikha = df_shikha.withColumn(\"current_date\",current_date())\n",
        "df_current_date_shikha.show()"
      ],
      "metadata": {
        "colab": {
          "base_uri": "https://localhost:8080/"
        },
        "id": "zLW2FbzpX3x8",
        "outputId": "afe4d077-0ab4-437d-f679-92c09d55cac9"
      },
      "execution_count": null,
      "outputs": [
        {
          "output_type": "stream",
          "name": "stdout",
          "text": [
            "+---+--------------------+----------+---+-------+------------+\n",
            "| id|                name|       dob|age| salary|current_date|\n",
            "+---+--------------------+----------+---+-------+------------+\n",
            "|  1|      shikhakarmokar|2024-08-01| 14| 1000.5|  2024-08-17|\n",
            "|  2|adithya ramakrishnan|2024-08-02| 25|2000.75|  2024-08-17|\n",
            "|  3|        aditee patil|2024-08-03| 20| 3000.1|  2024-08-17|\n",
            "|  4|      Bhavana Mishra|2024-08-04| 15|4000.25|  2024-08-17|\n",
            "|  5|      Preeti upadhya|2024-08-05| 30| 1500.3|  2024-08-17|\n",
            "|  6|           jhon snow|2024-08-06| 32|2500.45|  2024-08-17|\n",
            "+---+--------------------+----------+---+-------+------------+\n",
            "\n"
          ]
        }
      ]
    },
    {
      "cell_type": "code",
      "source": [
        "#current_timestamp\n",
        "#adds the current timestamp to the dataframe\n",
        "\n",
        "from pyspark.sql.functions import current_timestamp\n",
        "df_current_timestamp_shikha = df_shikha.withColumn(\"current_timestamp\",current_timestamp())\n",
        "df_current_timestamp_shikha.show()"
      ],
      "metadata": {
        "colab": {
          "base_uri": "https://localhost:8080/"
        },
        "id": "QxEJvBepYVcb",
        "outputId": "0ce93915-e682-4a4c-e6d5-48af4a159132"
      },
      "execution_count": null,
      "outputs": [
        {
          "output_type": "stream",
          "name": "stdout",
          "text": [
            "+---+--------------------+----------+---+-------+--------------------+\n",
            "| id|                name|       dob|age| salary|   current_timestamp|\n",
            "+---+--------------------+----------+---+-------+--------------------+\n",
            "|  1|      shikhakarmokar|2024-08-01| 14| 1000.5|2024-08-17 08:10:...|\n",
            "|  2|adithya ramakrishnan|2024-08-02| 25|2000.75|2024-08-17 08:10:...|\n",
            "|  3|        aditee patil|2024-08-03| 20| 3000.1|2024-08-17 08:10:...|\n",
            "|  4|      Bhavana Mishra|2024-08-04| 15|4000.25|2024-08-17 08:10:...|\n",
            "|  5|      Preeti upadhya|2024-08-05| 30| 1500.3|2024-08-17 08:10:...|\n",
            "|  6|           jhon snow|2024-08-06| 32|2500.45|2024-08-17 08:10:...|\n",
            "+---+--------------------+----------+---+-------+--------------------+\n",
            "\n"
          ]
        }
      ]
    },
    {
      "cell_type": "code",
      "source": [
        "#year,month,dayofmonth\n",
        "\n",
        "from pyspark.sql.functions import year,month,dayofmonth\n",
        "df_year_shikha = df_shikha.withColumn(\"year\",year(col(\"dob\")))\n",
        "df_year_shikha.show()"
      ],
      "metadata": {
        "colab": {
          "base_uri": "https://localhost:8080/"
        },
        "id": "XGbQzDihYdEc",
        "outputId": "81d8abd0-7e82-4d77-8b37-4ad9c57c104b"
      },
      "execution_count": null,
      "outputs": [
        {
          "output_type": "stream",
          "name": "stdout",
          "text": [
            "+---+--------------------+----------+---+-------+----+\n",
            "| id|                name|       dob|age| salary|year|\n",
            "+---+--------------------+----------+---+-------+----+\n",
            "|  1|      shikhakarmokar|2024-08-01| 14| 1000.5|2024|\n",
            "|  2|adithya ramakrishnan|2024-08-02| 25|2000.75|2024|\n",
            "|  3|        aditee patil|2024-08-03| 20| 3000.1|2024|\n",
            "|  4|      Bhavana Mishra|2024-08-04| 15|4000.25|2024|\n",
            "|  5|      Preeti upadhya|2024-08-05| 30| 1500.3|2024|\n",
            "|  6|           jhon snow|2024-08-06| 32|2500.45|2024|\n",
            "+---+--------------------+----------+---+-------+----+\n",
            "\n"
          ]
        }
      ]
    },
    {
      "cell_type": "code",
      "source": [
        "#date_add\n",
        "#adds 10 days to the \"dob\" column\n",
        "\n",
        "from pyspark.sql.functions import date_add\n",
        "df_date_add_shikha = df_shikha.withColumn(\"date_after_10_days\",date_add(col(\"dob\"), 10))\n",
        "df_date_add_shikha.show()"
      ],
      "metadata": {
        "colab": {
          "base_uri": "https://localhost:8080/"
        },
        "id": "ZazaWTAqZTos",
        "outputId": "5be6dcb4-83eb-450d-e039-e6888ee68e74"
      },
      "execution_count": null,
      "outputs": [
        {
          "output_type": "stream",
          "name": "stdout",
          "text": [
            "+---+--------------------+----------+---+-------+------------------+\n",
            "| id|                name|       dob|age| salary|date_after_10_days|\n",
            "+---+--------------------+----------+---+-------+------------------+\n",
            "|  1|      shikhakarmokar|2024-08-01| 14| 1000.5|        2024-08-11|\n",
            "|  2|adithya ramakrishnan|2024-08-02| 25|2000.75|        2024-08-12|\n",
            "|  3|        aditee patil|2024-08-03| 20| 3000.1|        2024-08-13|\n",
            "|  4|      Bhavana Mishra|2024-08-04| 15|4000.25|        2024-08-14|\n",
            "|  5|      Preeti upadhya|2024-08-05| 30| 1500.3|        2024-08-15|\n",
            "|  6|           jhon snow|2024-08-06| 32|2500.45|        2024-08-16|\n",
            "+---+--------------------+----------+---+-------+------------------+\n",
            "\n"
          ]
        }
      ]
    },
    {
      "cell_type": "code",
      "source": [
        "#date_sub\n",
        "#subtracts 10 days from the \"dob\" column\n",
        "\n",
        "from pyspark.sql.functions import date_sub\n",
        "df_date_sub_shikha = df_shikha.withColumn(\"date_before_10_days\",date_sub(col(\"dob\"), 10))\n",
        "df_date_sub_shikha.show()"
      ],
      "metadata": {
        "colab": {
          "base_uri": "https://localhost:8080/"
        },
        "id": "OlWxNvquaUid",
        "outputId": "27a43f43-6f62-4851-9a24-f297b1304d4e"
      },
      "execution_count": null,
      "outputs": [
        {
          "output_type": "stream",
          "name": "stdout",
          "text": [
            "+---+--------------------+----------+---+-------+-------------------+\n",
            "| id|                name|       dob|age| salary|date_before_10_days|\n",
            "+---+--------------------+----------+---+-------+-------------------+\n",
            "|  1|      shikhakarmokar|2024-08-01| 14| 1000.5|         2024-07-22|\n",
            "|  2|adithya ramakrishnan|2024-08-02| 25|2000.75|         2024-07-23|\n",
            "|  3|        aditee patil|2024-08-03| 20| 3000.1|         2024-07-24|\n",
            "|  4|      Bhavana Mishra|2024-08-04| 15|4000.25|         2024-07-25|\n",
            "|  5|      Preeti upadhya|2024-08-05| 30| 1500.3|         2024-07-26|\n",
            "|  6|           jhon snow|2024-08-06| 32|2500.45|         2024-07-27|\n",
            "+---+--------------------+----------+---+-------+-------------------+\n",
            "\n"
          ]
        }
      ]
    },
    {
      "cell_type": "code",
      "source": [
        "#dateiff\n",
        "from pyspark.sql.functions import datediff\n",
        "df_date_diff_shikha = df_shikha.withColumn(\"days_since_dob\",datediff(current_date(),col(\"dob\")))\n",
        "df_date_diff_shikha.show()"
      ],
      "metadata": {
        "colab": {
          "base_uri": "https://localhost:8080/"
        },
        "id": "m6vIcm6nazAF",
        "outputId": "6783a8e2-3556-4227-bbb9-390177ca8c3e"
      },
      "execution_count": null,
      "outputs": [
        {
          "output_type": "stream",
          "name": "stdout",
          "text": [
            "+---+--------------------+----------+---+-------+--------------+\n",
            "| id|                name|       dob|age| salary|days_since_dob|\n",
            "+---+--------------------+----------+---+-------+--------------+\n",
            "|  1|      shikhakarmokar|2024-08-01| 14| 1000.5|            16|\n",
            "|  2|adithya ramakrishnan|2024-08-02| 25|2000.75|            15|\n",
            "|  3|        aditee patil|2024-08-03| 20| 3000.1|            14|\n",
            "|  4|      Bhavana Mishra|2024-08-04| 15|4000.25|            13|\n",
            "|  5|      Preeti upadhya|2024-08-05| 30| 1500.3|            12|\n",
            "|  6|           jhon snow|2024-08-06| 32|2500.45|            11|\n",
            "+---+--------------------+----------+---+-------+--------------+\n",
            "\n"
          ]
        }
      ]
    },
    {
      "cell_type": "code",
      "source": [
        "#to_date\n",
        "#converts the \"dob\" column from string to dat6e format\n",
        "\n",
        "from pyspark.sql.functions import to_date\n",
        "df_to_date_shikha = df_shikha.withColumn(\"dob_as_date\",to_date(col(\"dob\"),\"yyyy-MM-dd\"))\n",
        "df_to_date_shikha.show()"
      ],
      "metadata": {
        "colab": {
          "base_uri": "https://localhost:8080/"
        },
        "id": "GPcEdkMAbOG1",
        "outputId": "78e6316f-85ae-4bca-b950-e159a1fa0025"
      },
      "execution_count": null,
      "outputs": [
        {
          "output_type": "stream",
          "name": "stdout",
          "text": [
            "+---+--------------------+----------+---+-------+-----------+\n",
            "| id|                name|       dob|age| salary|dob_as_date|\n",
            "+---+--------------------+----------+---+-------+-----------+\n",
            "|  1|      shikhakarmokar|2024-08-01| 14| 1000.5| 2024-08-01|\n",
            "|  2|adithya ramakrishnan|2024-08-02| 25|2000.75| 2024-08-02|\n",
            "|  3|        aditee patil|2024-08-03| 20| 3000.1| 2024-08-03|\n",
            "|  4|      Bhavana Mishra|2024-08-04| 15|4000.25| 2024-08-04|\n",
            "|  5|      Preeti upadhya|2024-08-05| 30| 1500.3| 2024-08-05|\n",
            "|  6|           jhon snow|2024-08-06| 32|2500.45| 2024-08-06|\n",
            "+---+--------------------+----------+---+-------+-----------+\n",
            "\n"
          ]
        }
      ]
    },
    {
      "cell_type": "code",
      "source": [
        "#to_timestamp\n",
        "#convert the \"dob\" column from string to timestamp format\n",
        "\n",
        "from pyspark.sql.functions import to_timestamp\n",
        "df_to_timestamp_shikha = df_shikha.withColumn(\"dob_as_timestamp\",to_timestamp(col(\"dob\"),\"yyyy-MM-dd\"))\n",
        "df_to_timestamp_shikha.show(truncate=False)"
      ],
      "metadata": {
        "colab": {
          "base_uri": "https://localhost:8080/"
        },
        "id": "eCUQb2pebv8N",
        "outputId": "a2f984eb-21d8-4f00-b311-746bbf252541"
      },
      "execution_count": null,
      "outputs": [
        {
          "output_type": "stream",
          "name": "stdout",
          "text": [
            "+---+--------------------+----------+---+-------+-------------------+\n",
            "|id |name                |dob       |age|salary |dob_as_timestamp   |\n",
            "+---+--------------------+----------+---+-------+-------------------+\n",
            "|1  |shikhakarmokar      |2024-08-01|14 |1000.5 |2024-08-01 00:00:00|\n",
            "|2  |adithya ramakrishnan|2024-08-02|25 |2000.75|2024-08-02 00:00:00|\n",
            "|3  |aditee patil        |2024-08-03|20 |3000.1 |2024-08-03 00:00:00|\n",
            "|4  |Bhavana Mishra      |2024-08-04|15 |4000.25|2024-08-04 00:00:00|\n",
            "|5  |Preeti upadhya      |2024-08-05|30 |1500.3 |2024-08-05 00:00:00|\n",
            "|6  |jhon snow           |2024-08-06|32 |2500.45|2024-08-06 00:00:00|\n",
            "+---+--------------------+----------+---+-------+-------------------+\n",
            "\n"
          ]
        }
      ]
    },
    {
      "cell_type": "code",
      "source": [
        "#window\n",
        "#aggregate the salary over a sliding window of one day\n",
        "\n",
        "from pyspark.sql.functions import window\n",
        "df_window_shikha = df_shikha.withColumn(\"window\", window(col(\"dob\"), \"1 day\"))\n",
        "df_window_shikha.show(truncate=False)"
      ],
      "metadata": {
        "colab": {
          "base_uri": "https://localhost:8080/"
        },
        "id": "kRJ8d8PacbnO",
        "outputId": "744435a4-eae4-4d0e-b40c-5fc741d9e6e9"
      },
      "execution_count": null,
      "outputs": [
        {
          "output_type": "stream",
          "name": "stdout",
          "text": [
            "+---+--------------------+----------+---+-------+------------------------------------------+\n",
            "|id |name                |dob       |age|salary |window                                    |\n",
            "+---+--------------------+----------+---+-------+------------------------------------------+\n",
            "|1  |shikhakarmokar      |2024-08-01|14 |1000.5 |{2024-08-01 00:00:00, 2024-08-02 00:00:00}|\n",
            "|2  |adithya ramakrishnan|2024-08-02|25 |2000.75|{2024-08-02 00:00:00, 2024-08-03 00:00:00}|\n",
            "|3  |aditee patil        |2024-08-03|20 |3000.1 |{2024-08-03 00:00:00, 2024-08-04 00:00:00}|\n",
            "|4  |Bhavana Mishra      |2024-08-04|15 |4000.25|{2024-08-04 00:00:00, 2024-08-05 00:00:00}|\n",
            "|5  |Preeti upadhya      |2024-08-05|30 |1500.3 |{2024-08-05 00:00:00, 2024-08-06 00:00:00}|\n",
            "|6  |jhon snow           |2024-08-06|32 |2500.45|{2024-08-06 00:00:00, 2024-08-07 00:00:00}|\n",
            "+---+--------------------+----------+---+-------+------------------------------------------+\n",
            "\n"
          ]
        }
      ]
    },
    {
      "cell_type": "code",
      "source": [
        "#rank, dense_rank,row_number\n",
        "#applies ranking functions to the salary column\n",
        "\n",
        "from pyspark.sql.window import Window\n",
        "from pyspark.sql.functions import rank, dense_rank, row_number\n",
        "\n",
        "windowSpec_shikha = Window.orderBy(col(\"salary\").desc())\n",
        "df_shikha.withColumn(\"rank\",rank().over(windowSpec_shikha)).withColumn(\"dense_rank\",dense_rank().over(windowSpec_shikha)).withColumn(\"row_number\",row_number().over(windowSpec_shikha)).show()"
      ],
      "metadata": {
        "colab": {
          "base_uri": "https://localhost:8080/"
        },
        "id": "ZsiKO-DOdEdm",
        "outputId": "2d9e2169-1ea3-45e4-ec20-d7a3fe21b815"
      },
      "execution_count": null,
      "outputs": [
        {
          "output_type": "stream",
          "name": "stdout",
          "text": [
            "+---+--------------------+----------+---+-------+----+----------+----------+\n",
            "| id|                name|       dob|age| salary|rank|dense_rank|row_number|\n",
            "+---+--------------------+----------+---+-------+----+----------+----------+\n",
            "|  4|      Bhavana Mishra|2024-08-04| 15|4000.25|   1|         1|         1|\n",
            "|  3|        aditee patil|2024-08-03| 20| 3000.1|   2|         2|         2|\n",
            "|  6|           jhon snow|2024-08-06| 32|2500.45|   3|         3|         3|\n",
            "|  2|adithya ramakrishnan|2024-08-02| 25|2000.75|   4|         4|         4|\n",
            "|  5|      Preeti upadhya|2024-08-05| 30| 1500.3|   5|         5|         5|\n",
            "|  1|      shikhakarmokar|2024-08-01| 14| 1000.5|   6|         6|         6|\n",
            "+---+--------------------+----------+---+-------+----+----------+----------+\n",
            "\n"
          ]
        }
      ]
    },
    {
      "cell_type": "code",
      "source": [
        "#array\n",
        "#creates a new array column\n",
        "\n",
        "from pyspark.sql.functions import array\n",
        "df_array_shikha = df_shikha.withColumn(\"array_column\",array(col(\"id\"),col(\"age\")))\n",
        "df_array_shikha.show()"
      ],
      "metadata": {
        "colab": {
          "base_uri": "https://localhost:8080/"
        },
        "id": "eHArjY_WeUm9",
        "outputId": "a9e27b37-5fbd-4822-9ad8-77169772e964"
      },
      "execution_count": null,
      "outputs": [
        {
          "output_type": "stream",
          "name": "stdout",
          "text": [
            "+---+--------------------+----------+---+-------+------------+\n",
            "| id|                name|       dob|age| salary|array_column|\n",
            "+---+--------------------+----------+---+-------+------------+\n",
            "|  1|      shikhakarmokar|2024-08-01| 14| 1000.5|     [1, 14]|\n",
            "|  2|adithya ramakrishnan|2024-08-02| 25|2000.75|     [2, 25]|\n",
            "|  3|        aditee patil|2024-08-03| 20| 3000.1|     [3, 20]|\n",
            "|  4|      Bhavana Mishra|2024-08-04| 15|4000.25|     [4, 15]|\n",
            "|  5|      Preeti upadhya|2024-08-05| 30| 1500.3|     [5, 30]|\n",
            "|  6|           jhon snow|2024-08-06| 32|2500.45|     [6, 32]|\n",
            "+---+--------------------+----------+---+-------+------------+\n",
            "\n"
          ]
        }
      ]
    },
    {
      "cell_type": "code",
      "source": [
        "#array_contains\n",
        "#check if a specified element exists in an array column\n",
        "\n",
        "from pyspark.sql.functions import array_contains\n",
        "df_array_contains_shikha = df_shikha.withColumn(\"contains_id_1\",array_contains(array(col(\"id\")), 1))\n",
        "df_array_contains_shikha.show()"
      ],
      "metadata": {
        "colab": {
          "base_uri": "https://localhost:8080/"
        },
        "id": "TYNAkenpfZh1",
        "outputId": "8aadf11a-3179-457d-c313-ff06a2080dfa"
      },
      "execution_count": null,
      "outputs": [
        {
          "output_type": "stream",
          "name": "stdout",
          "text": [
            "+---+--------------------+----------+---+-------+-------------+\n",
            "| id|                name|       dob|age| salary|contains_id_1|\n",
            "+---+--------------------+----------+---+-------+-------------+\n",
            "|  1|      shikhakarmokar|2024-08-01| 14| 1000.5|         true|\n",
            "|  2|adithya ramakrishnan|2024-08-02| 25|2000.75|        false|\n",
            "|  3|        aditee patil|2024-08-03| 20| 3000.1|        false|\n",
            "|  4|      Bhavana Mishra|2024-08-04| 15|4000.25|        false|\n",
            "|  5|      Preeti upadhya|2024-08-05| 30| 1500.3|        false|\n",
            "|  6|           jhon snow|2024-08-06| 32|2500.45|        false|\n",
            "+---+--------------------+----------+---+-------+-------------+\n",
            "\n"
          ]
        }
      ]
    },
    {
      "cell_type": "code",
      "source": [
        "#explode\n",
        "#creates a new row for each element in the given array or map column\n",
        "\n",
        "from pyspark.sql.functions import explode\n",
        "df_explode_shikha = df_shikha.withColumn(\"exploded_array\",explode(array(col(\"id\"),col(\"age\"))))\n",
        "df_explode_shikha.show()"
      ],
      "metadata": {
        "colab": {
          "base_uri": "https://localhost:8080/"
        },
        "id": "CPT9eZ0zgC0R",
        "outputId": "b0e7ca54-9678-492c-c294-53c332fbea7b"
      },
      "execution_count": null,
      "outputs": [
        {
          "output_type": "stream",
          "name": "stdout",
          "text": [
            "+---+--------------------+----------+---+-------+--------------+\n",
            "| id|                name|       dob|age| salary|exploded_array|\n",
            "+---+--------------------+----------+---+-------+--------------+\n",
            "|  1|      shikhakarmokar|2024-08-01| 14| 1000.5|             1|\n",
            "|  1|      shikhakarmokar|2024-08-01| 14| 1000.5|            14|\n",
            "|  2|adithya ramakrishnan|2024-08-02| 25|2000.75|             2|\n",
            "|  2|adithya ramakrishnan|2024-08-02| 25|2000.75|            25|\n",
            "|  3|        aditee patil|2024-08-03| 20| 3000.1|             3|\n",
            "|  3|        aditee patil|2024-08-03| 20| 3000.1|            20|\n",
            "|  4|      Bhavana Mishra|2024-08-04| 15|4000.25|             4|\n",
            "|  4|      Bhavana Mishra|2024-08-04| 15|4000.25|            15|\n",
            "|  5|      Preeti upadhya|2024-08-05| 30| 1500.3|             5|\n",
            "|  5|      Preeti upadhya|2024-08-05| 30| 1500.3|            30|\n",
            "|  6|           jhon snow|2024-08-06| 32|2500.45|             6|\n",
            "|  6|           jhon snow|2024-08-06| 32|2500.45|            32|\n",
            "+---+--------------------+----------+---+-------+--------------+\n",
            "\n"
          ]
        }
      ]
    },
    {
      "cell_type": "code",
      "source": [
        "#map\n",
        "#creates a new map column\n",
        "\n",
        "from pyspark.sql.functions import create_map\n",
        "df_map_shikha = df_shikha.withColumn(\"map_column\",create_map(lit(\"name\"),col(\"name\"),lit(\"age\"),col(\"age\")))\n",
        "df_map_shikha.show(truncate=False)\n"
      ],
      "metadata": {
        "colab": {
          "base_uri": "https://localhost:8080/"
        },
        "id": "dYgIagJOg8El",
        "outputId": "a0321069-8a23-49f1-b755-797cc3ee87f7"
      },
      "execution_count": null,
      "outputs": [
        {
          "output_type": "stream",
          "name": "stdout",
          "text": [
            "+---+--------------------+----------+---+-------+-----------------------------------------+\n",
            "|id |name                |dob       |age|salary |map_column                               |\n",
            "+---+--------------------+----------+---+-------+-----------------------------------------+\n",
            "|1  |shikhakarmokar      |2024-08-01|14 |1000.5 |{name -> shikhakarmokar, age -> 14}      |\n",
            "|2  |adithya ramakrishnan|2024-08-02|25 |2000.75|{name -> adithya ramakrishnan, age -> 25}|\n",
            "|3  |aditee patil        |2024-08-03|20 |3000.1 |{name -> aditee patil, age -> 20}        |\n",
            "|4  |Bhavana Mishra      |2024-08-04|15 |4000.25|{name -> Bhavana Mishra, age -> 15}      |\n",
            "|5  |Preeti upadhya      |2024-08-05|30 |1500.3 |{name -> Preeti upadhya, age -> 30}      |\n",
            "|6  |jhon snow           |2024-08-06|32 |2500.45|{name -> jhon snow, age -> 32}           |\n",
            "+---+--------------------+----------+---+-------+-----------------------------------------+\n",
            "\n"
          ]
        }
      ]
    },
    {
      "cell_type": "code",
      "source": [
        "#coalesce\n",
        "#returns the first non-null value among the given columns\n",
        "\n",
        "from pyspark.sql.functions import coalesce\n",
        "df_coalesce_shikha = df_shikha.withColumn(\"coalesed_value\",coalesce(col(\"name\"),col(\"age\")))\n",
        "df_coalesce_shikha.show()"
      ],
      "metadata": {
        "colab": {
          "base_uri": "https://localhost:8080/"
        },
        "id": "TFWGjA8ohugW",
        "outputId": "866fb180-b21e-44a1-8988-1c9824995e90"
      },
      "execution_count": null,
      "outputs": [
        {
          "output_type": "stream",
          "name": "stdout",
          "text": [
            "+---+--------------------+----------+---+-------+--------------------+\n",
            "| id|                name|       dob|age| salary|      coalesed_value|\n",
            "+---+--------------------+----------+---+-------+--------------------+\n",
            "|  1|      shikhakarmokar|2024-08-01| 14| 1000.5|      shikhakarmokar|\n",
            "|  2|adithya ramakrishnan|2024-08-02| 25|2000.75|adithya ramakrishnan|\n",
            "|  3|        aditee patil|2024-08-03| 20| 3000.1|        aditee patil|\n",
            "|  4|      Bhavana Mishra|2024-08-04| 15|4000.25|      Bhavana Mishra|\n",
            "|  5|      Preeti upadhya|2024-08-05| 30| 1500.3|      Preeti upadhya|\n",
            "|  6|           jhon snow|2024-08-06| 32|2500.45|           jhon snow|\n",
            "+---+--------------------+----------+---+-------+--------------------+\n",
            "\n"
          ]
        }
      ]
    },
    {
      "cell_type": "code",
      "source": [
        "#isnull\n",
        "#checks if the column is null\n",
        "\n",
        "from pyspark.sql.functions import isnull\n",
        "df_isnull_shikha = df_shikha.withColumn(\"is_name_null\",isnull(col(\"name\")))\n",
        "df_isnull_shikha.show()"
      ],
      "metadata": {
        "colab": {
          "base_uri": "https://localhost:8080/"
        },
        "id": "8RTHqMx5iVyh",
        "outputId": "d23e18c6-f810-4f61-a6ab-a0eadb0ed7f5"
      },
      "execution_count": null,
      "outputs": [
        {
          "output_type": "stream",
          "name": "stdout",
          "text": [
            "+---+--------------------+----------+---+-------+------------+\n",
            "| id|                name|       dob|age| salary|is_name_null|\n",
            "+---+--------------------+----------+---+-------+------------+\n",
            "|  1|      shikhakarmokar|2024-08-01| 14| 1000.5|       false|\n",
            "|  2|adithya ramakrishnan|2024-08-02| 25|2000.75|       false|\n",
            "|  3|        aditee patil|2024-08-03| 20| 3000.1|       false|\n",
            "|  4|      Bhavana Mishra|2024-08-04| 15|4000.25|       false|\n",
            "|  5|      Preeti upadhya|2024-08-05| 30| 1500.3|       false|\n",
            "|  6|           jhon snow|2024-08-06| 32|2500.45|       false|\n",
            "+---+--------------------+----------+---+-------+------------+\n",
            "\n"
          ]
        }
      ]
    },
    {
      "cell_type": "code",
      "source": [
        "#isnan\n",
        "#check if the column is NaN\n",
        "\n",
        "from pyspark.sql.functions import isnan\n",
        "df_isnan_shikha = df_shikha.withColumn(\"is_age_nan\",isnan(col(\"age\")))\n",
        "df_isnan_shikha.show()"
      ],
      "metadata": {
        "colab": {
          "base_uri": "https://localhost:8080/"
        },
        "id": "WW25gD98i--F",
        "outputId": "d31ca26f-a999-4354-b2f5-ddab831f2079"
      },
      "execution_count": null,
      "outputs": [
        {
          "output_type": "stream",
          "name": "stdout",
          "text": [
            "+---+--------------------+----------+---+-------+----------+\n",
            "| id|                name|       dob|age| salary|is_age_nan|\n",
            "+---+--------------------+----------+---+-------+----------+\n",
            "|  1|      shikhakarmokar|2024-08-01| 14| 1000.5|     false|\n",
            "|  2|adithya ramakrishnan|2024-08-02| 25|2000.75|     false|\n",
            "|  3|        aditee patil|2024-08-03| 20| 3000.1|     false|\n",
            "|  4|      Bhavana Mishra|2024-08-04| 15|4000.25|     false|\n",
            "|  5|      Preeti upadhya|2024-08-05| 30| 1500.3|     false|\n",
            "|  6|           jhon snow|2024-08-06| 32|2500.45|     false|\n",
            "+---+--------------------+----------+---+-------+----------+\n",
            "\n"
          ]
        }
      ]
    },
    {
      "cell_type": "code",
      "source": [
        "#sha2\n",
        "#applies the SHA-2 hash function to the column\n",
        "\n",
        "from pyspark.sql.functions import sha2\n",
        "df_sha2_shikha = df_shikha.withColumn(\"sha2_hash\",sha2(col(\"name\"),256))\n",
        "df_sha2_shikha.show(truncate = False)"
      ],
      "metadata": {
        "colab": {
          "base_uri": "https://localhost:8080/"
        },
        "id": "2kDaIPx8jVg9",
        "outputId": "9e640c3c-1609-44d0-a507-3796dbd975c7"
      },
      "execution_count": null,
      "outputs": [
        {
          "output_type": "stream",
          "name": "stdout",
          "text": [
            "+---+--------------------+----------+---+-------+----------------------------------------------------------------+\n",
            "|id |name                |dob       |age|salary |sha2_hash                                                       |\n",
            "+---+--------------------+----------+---+-------+----------------------------------------------------------------+\n",
            "|1  |shikhakarmokar      |2024-08-01|14 |1000.5 |b811c3e0abe62a7f55db7957b4a2a7f342865be24cca531c033bce3b3353f307|\n",
            "|2  |adithya ramakrishnan|2024-08-02|25 |2000.75|4c2d1f8d9d15e028a07e4f8230d98be6b8af243d9c11537eab337eff39e8ef4b|\n",
            "|3  |aditee patil        |2024-08-03|20 |3000.1 |a632fb0d144fda30bfe12f7fd53ee63668075f6a10136af994beb71eb6276146|\n",
            "|4  |Bhavana Mishra      |2024-08-04|15 |4000.25|f8667cc6280e9fd0f5bfafd76245a1fa8d44805ed2e5ea9bb96f2b403c27f371|\n",
            "|5  |Preeti upadhya      |2024-08-05|30 |1500.3 |03caeac7872e03cfe34df8e8f8a582aec337f511af95cd7b32e0046a34ba4f79|\n",
            "|6  |jhon snow           |2024-08-06|32 |2500.45|5046bd24475105cc187af314b65a65acd87f111246ab8d748b1653c8ec657d51|\n",
            "+---+--------------------+----------+---+-------+----------------------------------------------------------------+\n",
            "\n"
          ]
        }
      ]
    },
    {
      "cell_type": "code",
      "source": [
        "#md5\n",
        "#calculates the MD5 hash of a column\n",
        "\n",
        "from pyspark.sql.functions import md5\n",
        "df_md5_shikha = df_shikha.withColumn(\"md5_hash\",md5(col(\"name\")))\n",
        "df_md5_shikha.show(truncate=False)"
      ],
      "metadata": {
        "colab": {
          "base_uri": "https://localhost:8080/"
        },
        "id": "RlaODFASjzzm",
        "outputId": "90a4791d-f3c7-4a3b-eb23-e55ec3a8a157"
      },
      "execution_count": null,
      "outputs": [
        {
          "output_type": "stream",
          "name": "stdout",
          "text": [
            "+---+--------------------+----------+---+-------+--------------------------------+\n",
            "|id |name                |dob       |age|salary |md5_hash                        |\n",
            "+---+--------------------+----------+---+-------+--------------------------------+\n",
            "|1  |shikhakarmokar      |2024-08-01|14 |1000.5 |6411caaaaa8630bf35391919cce8ac0a|\n",
            "|2  |adithya ramakrishnan|2024-08-02|25 |2000.75|28b94689e4710c7ae841ec4982a716c9|\n",
            "|3  |aditee patil        |2024-08-03|20 |3000.1 |748123c75e7b906c9f98a84febe98c1b|\n",
            "|4  |Bhavana Mishra      |2024-08-04|15 |4000.25|d813ddd6ad6ec5412271147300cc7523|\n",
            "|5  |Preeti upadhya      |2024-08-05|30 |1500.3 |4777306d510ceac3a3c7525a9fe23a5a|\n",
            "|6  |jhon snow           |2024-08-06|32 |2500.45|dc3c48d8437698ee74812dfbbf45ad14|\n",
            "+---+--------------------+----------+---+-------+--------------------------------+\n",
            "\n"
          ]
        }
      ]
    },
    {
      "cell_type": "code",
      "source": [
        "#monotonically_increasing_id\n",
        "#generates a unique,monotonically increasing 64-bit integer for each row\n",
        "\n",
        "from pyspark.sql.functions import monotonically_increasing_id\n",
        "df_monotonically_increasing_id_shikha = df_shikha.withColumn(\"monotonically_increasing_id\",monotonically_increasing_id())\n",
        "df_monotonically_increasing_id_shikha.show()"
      ],
      "metadata": {
        "colab": {
          "base_uri": "https://localhost:8080/"
        },
        "id": "twZoEtWNkPxu",
        "outputId": "288eb0c9-3a5a-45b6-cc55-2b7291208c48"
      },
      "execution_count": null,
      "outputs": [
        {
          "output_type": "stream",
          "name": "stdout",
          "text": [
            "+---+--------------------+----------+---+-------+---------------------------+\n",
            "| id|                name|       dob|age| salary|monotonically_increasing_id|\n",
            "+---+--------------------+----------+---+-------+---------------------------+\n",
            "|  1|      shikhakarmokar|2024-08-01| 14| 1000.5|                          0|\n",
            "|  2|adithya ramakrishnan|2024-08-02| 25|2000.75|                          1|\n",
            "|  3|        aditee patil|2024-08-03| 20| 3000.1|                          2|\n",
            "|  4|      Bhavana Mishra|2024-08-04| 15|4000.25|                 8589934592|\n",
            "|  5|      Preeti upadhya|2024-08-05| 30| 1500.3|                 8589934593|\n",
            "|  6|           jhon snow|2024-08-06| 32|2500.45|                 8589934594|\n",
            "+---+--------------------+----------+---+-------+---------------------------+\n",
            "\n"
          ]
        }
      ]
    },
    {
      "cell_type": "code",
      "source": [
        "#length\n",
        "#returns the length of a string column\n",
        "\n",
        "from pyspark.sql.functions import length\n",
        "df_length_shikha = df_shikha.withColumn(\"name_length\",length(col(\"name\")))\n",
        "df_length_shikha.show()"
      ],
      "metadata": {
        "colab": {
          "base_uri": "https://localhost:8080/"
        },
        "id": "4mrjRW3HlEl1",
        "outputId": "c6579db8-771d-4c86-b243-ee17ad3131b0"
      },
      "execution_count": null,
      "outputs": [
        {
          "output_type": "stream",
          "name": "stdout",
          "text": [
            "+---+--------------------+----------+---+-------+-----------+\n",
            "| id|                name|       dob|age| salary|name_length|\n",
            "+---+--------------------+----------+---+-------+-----------+\n",
            "|  1|      shikhakarmokar|2024-08-01| 14| 1000.5|         14|\n",
            "|  2|adithya ramakrishnan|2024-08-02| 25|2000.75|         20|\n",
            "|  3|        aditee patil|2024-08-03| 20| 3000.1|         12|\n",
            "|  4|      Bhavana Mishra|2024-08-04| 15|4000.25|         14|\n",
            "|  5|      Preeti upadhya|2024-08-05| 30| 1500.3|         14|\n",
            "|  6|           jhon snow|2024-08-06| 32|2500.45|          9|\n",
            "+---+--------------------+----------+---+-------+-----------+\n",
            "\n"
          ]
        }
      ]
    },
    {
      "cell_type": "code",
      "source": [
        "#upper and lower\n",
        "#converts all characters of a string column to upper or lower case\n",
        "\n",
        "from pyspark.sql.functions import upper, lower\n",
        "df_upper_lower_shikha = df_shikha.withColumn(\"name_upper\",upper(col(\"name\"))).withColumn(\"name_lower\",lower(col(\"name\")))\n",
        "df_upper_lower_shikha.show()"
      ],
      "metadata": {
        "colab": {
          "base_uri": "https://localhost:8080/"
        },
        "id": "JvhK3xjeljJ9",
        "outputId": "27a88220-d1a3-4e7d-a2c6-9379d7d4f223"
      },
      "execution_count": null,
      "outputs": [
        {
          "output_type": "stream",
          "name": "stdout",
          "text": [
            "+---+--------------------+----------+---+-------+--------------------+--------------------+\n",
            "| id|                name|       dob|age| salary|          name_upper|          name_lower|\n",
            "+---+--------------------+----------+---+-------+--------------------+--------------------+\n",
            "|  1|      shikhakarmokar|2024-08-01| 14| 1000.5|      SHIKHAKARMOKAR|      shikhakarmokar|\n",
            "|  2|adithya ramakrishnan|2024-08-02| 25|2000.75|ADITHYA RAMAKRISHNAN|adithya ramakrishnan|\n",
            "|  3|        aditee patil|2024-08-03| 20| 3000.1|        ADITEE PATIL|        aditee patil|\n",
            "|  4|      Bhavana Mishra|2024-08-04| 15|4000.25|      BHAVANA MISHRA|      bhavana mishra|\n",
            "|  5|      Preeti upadhya|2024-08-05| 30| 1500.3|      PREETI UPADHYA|      preeti upadhya|\n",
            "|  6|           jhon snow|2024-08-06| 32|2500.45|           JHON SNOW|           jhon snow|\n",
            "+---+--------------------+----------+---+-------+--------------------+--------------------+\n",
            "\n"
          ]
        }
      ]
    },
    {
      "cell_type": "code",
      "source": [
        "#trim,ltrim,rtrim\n",
        "#trims spaces from both sides, left side or rigth side of a string column\n",
        "\n",
        "from pyspark.sql.functions import trim,ltrim,rtrim\n",
        "df_all_shikha = df_shikha.withColumn(\"name_trimmed\",trim(col(\"name\"))).withColumn(\"name_ltrimmed\",ltrim(col(\"name\"))).withColumn(\"name_rtrimmed\",rtrim(col(\"name\")))\n",
        "df_all_shikha.show()"
      ],
      "metadata": {
        "colab": {
          "base_uri": "https://localhost:8080/"
        },
        "id": "FOj1XEwJmScX",
        "outputId": "bde7ec0f-32be-4758-df70-5c1d33bb10e9"
      },
      "execution_count": null,
      "outputs": [
        {
          "output_type": "stream",
          "name": "stdout",
          "text": [
            "+---+--------------------+----------+---+-------+--------------------+--------------------+--------------------+\n",
            "| id|                name|       dob|age| salary|        name_trimmed|       name_ltrimmed|       name_rtrimmed|\n",
            "+---+--------------------+----------+---+-------+--------------------+--------------------+--------------------+\n",
            "|  1|      shikhakarmokar|2024-08-01| 14| 1000.5|      shikhakarmokar|      shikhakarmokar|      shikhakarmokar|\n",
            "|  2|adithya ramakrishnan|2024-08-02| 25|2000.75|adithya ramakrishnan|adithya ramakrishnan|adithya ramakrishnan|\n",
            "|  3|        aditee patil|2024-08-03| 20| 3000.1|        aditee patil|        aditee patil|        aditee patil|\n",
            "|  4|      Bhavana Mishra|2024-08-04| 15|4000.25|      Bhavana Mishra|      Bhavana Mishra|      Bhavana Mishra|\n",
            "|  5|      Preeti upadhya|2024-08-05| 30| 1500.3|      Preeti upadhya|      Preeti upadhya|      Preeti upadhya|\n",
            "|  6|           jhon snow|2024-08-06| 32|2500.45|           jhon snow|           jhon snow|           jhon snow|\n",
            "+---+--------------------+----------+---+-------+--------------------+--------------------+--------------------+\n",
            "\n"
          ]
        }
      ]
    },
    {
      "cell_type": "code",
      "source": [
        "#abs\n",
        "#returns the absolute value of a numeric column\n",
        "\n",
        "from pyspark.sql.functions import abs\n",
        "df_abs_shikha = df_shikha.withColumn(\"abs_salary\",abs(col(\"salary\")-3000))\n",
        "df_abs_shikha.show()"
      ],
      "metadata": {
        "colab": {
          "base_uri": "https://localhost:8080/"
        },
        "id": "MYlghkCJnKv2",
        "outputId": "c0ecf979-967c-426b-b705-34599f8c635b"
      },
      "execution_count": null,
      "outputs": [
        {
          "output_type": "stream",
          "name": "stdout",
          "text": [
            "+---+--------------------+----------+---+-------+-------------------+\n",
            "| id|                name|       dob|age| salary|         abs_salary|\n",
            "+---+--------------------+----------+---+-------+-------------------+\n",
            "|  1|      shikhakarmokar|2024-08-01| 14| 1000.5|             1999.5|\n",
            "|  2|adithya ramakrishnan|2024-08-02| 25|2000.75|             999.25|\n",
            "|  3|        aditee patil|2024-08-03| 20| 3000.1|0.09999999999990905|\n",
            "|  4|      Bhavana Mishra|2024-08-04| 15|4000.25|            1000.25|\n",
            "|  5|      Preeti upadhya|2024-08-05| 30| 1500.3|             1499.7|\n",
            "|  6|           jhon snow|2024-08-06| 32|2500.45|  499.5500000000002|\n",
            "+---+--------------------+----------+---+-------+-------------------+\n",
            "\n"
          ]
        }
      ]
    },
    {
      "cell_type": "code",
      "source": [
        "#sqrt\n",
        "#returns the square root of a numeric column\n",
        "\n",
        "from pyspark.sql.functions import sqrt\n",
        "df_sqrt_shikha = df_shikha.withColumn(\"sqrt_age\",sqrt(col(\"age\")))\n",
        "df_sqrt_shikha.show()"
      ],
      "metadata": {
        "colab": {
          "base_uri": "https://localhost:8080/"
        },
        "id": "45VD2_SNnx4w",
        "outputId": "45ee4629-4dd4-4738-911b-6c2af7ca22ed"
      },
      "execution_count": null,
      "outputs": [
        {
          "output_type": "stream",
          "name": "stdout",
          "text": [
            "+---+--------------------+----------+---+-------+------------------+\n",
            "| id|                name|       dob|age| salary|          sqrt_age|\n",
            "+---+--------------------+----------+---+-------+------------------+\n",
            "|  1|      shikhakarmokar|2024-08-01| 14| 1000.5|3.7416573867739413|\n",
            "|  2|adithya ramakrishnan|2024-08-02| 25|2000.75|               5.0|\n",
            "|  3|        aditee patil|2024-08-03| 20| 3000.1|  4.47213595499958|\n",
            "|  4|      Bhavana Mishra|2024-08-04| 15|4000.25| 3.872983346207417|\n",
            "|  5|      Preeti upadhya|2024-08-05| 30| 1500.3| 5.477225575051661|\n",
            "|  6|           jhon snow|2024-08-06| 32|2500.45| 5.656854249492381|\n",
            "+---+--------------------+----------+---+-------+------------------+\n",
            "\n"
          ]
        }
      ]
    },
    {
      "cell_type": "code",
      "source": [
        "#exp\n",
        "#computes the exponential of the given column\n",
        "\n",
        "from pyspark.sql.functions import exp\n",
        "df_exp_shikha = df_shikha.withColumn(\"exp_age\",exp(col(\"age\")))\n",
        "df_exp_shikha.show()"
      ],
      "metadata": {
        "colab": {
          "base_uri": "https://localhost:8080/"
        },
        "id": "dIHB7MJIoMNH",
        "outputId": "7bb246d2-94d9-431b-ab3a-2e13fc6e9954"
      },
      "execution_count": null,
      "outputs": [
        {
          "output_type": "stream",
          "name": "stdout",
          "text": [
            "+---+--------------------+----------+---+-------+--------------------+\n",
            "| id|                name|       dob|age| salary|             exp_age|\n",
            "+---+--------------------+----------+---+-------+--------------------+\n",
            "|  1|      shikhakarmokar|2024-08-01| 14| 1000.5|  1202604.2841647768|\n",
            "|  2|adithya ramakrishnan|2024-08-02| 25|2000.75|7.200489933738588E10|\n",
            "|  3|        aditee patil|2024-08-03| 20| 3000.1| 4.851651954097903E8|\n",
            "|  4|      Bhavana Mishra|2024-08-04| 15|4000.25|  3269017.3724721107|\n",
            "|  5|      Preeti upadhya|2024-08-05| 30| 1500.3|1.068647458152446...|\n",
            "|  6|           jhon snow|2024-08-06| 32|2500.45|7.896296018268069E13|\n",
            "+---+--------------------+----------+---+-------+--------------------+\n",
            "\n"
          ]
        }
      ]
    },
    {
      "cell_type": "code",
      "source": [
        "#log, log10,log2\n",
        "#computes the logarithm of the column using a base of e, 10, 2\n",
        "\n",
        "from pyspark.sql.functions import log,log10,log2\n",
        "df_all_shikha = df_shikha.withColumn(\"log_age\",log(col(\"age\"))).withColumn(\"log10_age\",log10(col(\"age\"))).withColumn(\"log2_age\",log2(col(\"age\")))\n",
        "df_all_shikha.show()"
      ],
      "metadata": {
        "colab": {
          "base_uri": "https://localhost:8080/"
        },
        "id": "3TRCqv4_okwO",
        "outputId": "102c6729-d158-4fdb-c596-dd080f36f483"
      },
      "execution_count": null,
      "outputs": [
        {
          "output_type": "stream",
          "name": "stdout",
          "text": [
            "+---+--------------------+----------+---+-------+------------------+------------------+------------------+\n",
            "| id|                name|       dob|age| salary|           log_age|         log10_age|          log2_age|\n",
            "+---+--------------------+----------+---+-------+------------------+------------------+------------------+\n",
            "|  1|      shikhakarmokar|2024-08-01| 14| 1000.5|2.6390573296152584| 1.146128035678238|3.8073549220576037|\n",
            "|  2|adithya ramakrishnan|2024-08-02| 25|2000.75|3.2188758248682006|1.3979400086720377| 4.643856189774724|\n",
            "|  3|        aditee patil|2024-08-03| 20| 3000.1| 2.995732273553991|1.3010299956639813| 4.321928094887363|\n",
            "|  4|      Bhavana Mishra|2024-08-04| 15|4000.25|  2.70805020110221|1.1760912590556813|3.9068905956085187|\n",
            "|  5|      Preeti upadhya|2024-08-05| 30| 1500.3|3.4011973816621555|1.4771212547196624| 4.906890595608519|\n",
            "|  6|           jhon snow|2024-08-06| 32|2500.45|3.4657359027997265| 1.505149978319906|               5.0|\n",
            "+---+--------------------+----------+---+-------+------------------+------------------+------------------+\n",
            "\n"
          ]
        }
      ]
    },
    {
      "cell_type": "code",
      "source": [
        "#GREATEST and Least\n",
        "\n",
        "from pyspark.sql.functions import greatest,least\n",
        "df_greatest_shikha = df_shikha.withColumn(\"greatest_value\",greatest(col(\"id\"),col(\"age\")))\n",
        "print(df_greatest_shikha.show())\n",
        "\n",
        "df_least_shikha = df_shikha.withColumn(\"least_value\",least(col(\"id\"),col(\"age\")))\n",
        "print(df_least_shikha.show())"
      ],
      "metadata": {
        "colab": {
          "base_uri": "https://localhost:8080/"
        },
        "id": "MOMq3G6LpaA_",
        "outputId": "ca34ecdf-2492-486e-ef63-c5d3f4b61e18"
      },
      "execution_count": null,
      "outputs": [
        {
          "output_type": "stream",
          "name": "stdout",
          "text": [
            "+---+--------------------+----------+---+-------+--------------+\n",
            "| id|                name|       dob|age| salary|greatest_value|\n",
            "+---+--------------------+----------+---+-------+--------------+\n",
            "|  1|      shikhakarmokar|2024-08-01| 14| 1000.5|            14|\n",
            "|  2|adithya ramakrishnan|2024-08-02| 25|2000.75|            25|\n",
            "|  3|        aditee patil|2024-08-03| 20| 3000.1|            20|\n",
            "|  4|      Bhavana Mishra|2024-08-04| 15|4000.25|            15|\n",
            "|  5|      Preeti upadhya|2024-08-05| 30| 1500.3|            30|\n",
            "|  6|           jhon snow|2024-08-06| 32|2500.45|            32|\n",
            "+---+--------------------+----------+---+-------+--------------+\n",
            "\n",
            "None\n",
            "+---+--------------------+----------+---+-------+-----------+\n",
            "| id|                name|       dob|age| salary|least_value|\n",
            "+---+--------------------+----------+---+-------+-----------+\n",
            "|  1|      shikhakarmokar|2024-08-01| 14| 1000.5|          1|\n",
            "|  2|adithya ramakrishnan|2024-08-02| 25|2000.75|          2|\n",
            "|  3|        aditee patil|2024-08-03| 20| 3000.1|          3|\n",
            "|  4|      Bhavana Mishra|2024-08-04| 15|4000.25|          4|\n",
            "|  5|      Preeti upadhya|2024-08-05| 30| 1500.3|          5|\n",
            "|  6|           jhon snow|2024-08-06| 32|2500.45|          6|\n",
            "+---+--------------------+----------+---+-------+-----------+\n",
            "\n",
            "None\n"
          ]
        }
      ]
    },
    {
      "cell_type": "code",
      "source": [
        "#pow\n",
        "#raises the value of a column to the power of another column\n",
        "\n",
        "from pyspark.sql.functions import pow\n",
        "df_pow_shikha = df_shikha.withColumn(\"pow_result\",pow(col(\"id\"),col(\"age\")))\n",
        "df_pow_shikha.show(truncate=False)"
      ],
      "metadata": {
        "colab": {
          "base_uri": "https://localhost:8080/"
        },
        "id": "suXoI110qlaZ",
        "outputId": "e127fe5e-1864-4129-9731-45a7abd35ede"
      },
      "execution_count": null,
      "outputs": [
        {
          "output_type": "stream",
          "name": "stdout",
          "text": [
            "+---+--------------------+----------+---+-------+--------------------+\n",
            "|id |name                |dob       |age|salary |pow_result          |\n",
            "+---+--------------------+----------+---+-------+--------------------+\n",
            "|1  |shikhakarmokar      |2024-08-01|14 |1000.5 |1.0                 |\n",
            "|2  |adithya ramakrishnan|2024-08-02|25 |2000.75|3.3554432E7         |\n",
            "|3  |aditee patil        |2024-08-03|20 |3000.1 |3.486784401E9       |\n",
            "|4  |Bhavana Mishra      |2024-08-04|15 |4000.25|1.073741824E9       |\n",
            "|5  |Preeti upadhya      |2024-08-05|30 |1500.3 |9.313225746154785E20|\n",
            "|6  |jhon snow           |2024-08-06|32 |2500.45|7.958661109946401E24|\n",
            "+---+--------------------+----------+---+-------+--------------------+\n",
            "\n"
          ]
        }
      ]
    },
    {
      "cell_type": "code",
      "source": [
        "#round, bround\n",
        "\n",
        "from pyspark.sql.functions import round,bround\n",
        "df_round_shikha = df_shikha.withColumn(\"rounded_salary\",round(col(\"salary\"), 0))\n",
        "print(df_round_shikha.show())\n",
        "\n",
        "df_bround_shikha = df_shikha.withColumn(\"brounded_salary\",bround(col(\"salary\"), 0))\n",
        "print(df_bround_shikha.show())"
      ],
      "metadata": {
        "colab": {
          "base_uri": "https://localhost:8080/"
        },
        "id": "yrxZhwz8rIv_",
        "outputId": "a337c700-b87f-469a-bbd1-26aabe722b4a"
      },
      "execution_count": null,
      "outputs": [
        {
          "output_type": "stream",
          "name": "stdout",
          "text": [
            "+---+--------------------+----------+---+-------+--------------+\n",
            "| id|                name|       dob|age| salary|rounded_salary|\n",
            "+---+--------------------+----------+---+-------+--------------+\n",
            "|  1|      shikhakarmokar|2024-08-01| 14| 1000.5|        1001.0|\n",
            "|  2|adithya ramakrishnan|2024-08-02| 25|2000.75|        2001.0|\n",
            "|  3|        aditee patil|2024-08-03| 20| 3000.1|        3000.0|\n",
            "|  4|      Bhavana Mishra|2024-08-04| 15|4000.25|        4000.0|\n",
            "|  5|      Preeti upadhya|2024-08-05| 30| 1500.3|        1500.0|\n",
            "|  6|           jhon snow|2024-08-06| 32|2500.45|        2500.0|\n",
            "+---+--------------------+----------+---+-------+--------------+\n",
            "\n",
            "None\n",
            "+---+--------------------+----------+---+-------+---------------+\n",
            "| id|                name|       dob|age| salary|brounded_salary|\n",
            "+---+--------------------+----------+---+-------+---------------+\n",
            "|  1|      shikhakarmokar|2024-08-01| 14| 1000.5|         1000.0|\n",
            "|  2|adithya ramakrishnan|2024-08-02| 25|2000.75|         2001.0|\n",
            "|  3|        aditee patil|2024-08-03| 20| 3000.1|         3000.0|\n",
            "|  4|      Bhavana Mishra|2024-08-04| 15|4000.25|         4000.0|\n",
            "|  5|      Preeti upadhya|2024-08-05| 30| 1500.3|         1500.0|\n",
            "|  6|           jhon snow|2024-08-06| 32|2500.45|         2500.0|\n",
            "+---+--------------------+----------+---+-------+---------------+\n",
            "\n",
            "None\n"
          ]
        }
      ]
    },
    {
      "cell_type": "code",
      "source": [
        "#degree, radius\n",
        "\n",
        "from pyspark.sql.functions import degrees,radians\n",
        "df_degrees_shikha = df_shikha.withColumn(\"degrees_value\",degrees(col(\"age\")))\n",
        "print(df_degrees_shikha.show())\n",
        "\n",
        "df_radians_shikha = df_shikha.withColumn(\"radians_value\",radians(col(\"age\")))\n",
        "print(df_radians_shikha.show())"
      ],
      "metadata": {
        "colab": {
          "base_uri": "https://localhost:8080/"
        },
        "id": "hyX-KncJrzIX",
        "outputId": "fa7d4977-3345-4da1-c3d8-3b785e870f61"
      },
      "execution_count": null,
      "outputs": [
        {
          "output_type": "stream",
          "name": "stdout",
          "text": [
            "+---+--------------------+----------+---+-------+------------------+\n",
            "| id|                name|       dob|age| salary|     degrees_value|\n",
            "+---+--------------------+----------+---+-------+------------------+\n",
            "|  1|      shikhakarmokar|2024-08-01| 14| 1000.5| 802.1409131831525|\n",
            "|  2|adithya ramakrishnan|2024-08-02| 25|2000.75|1432.3944878270581|\n",
            "|  3|        aditee patil|2024-08-03| 20| 3000.1|1145.9155902616465|\n",
            "|  4|      Bhavana Mishra|2024-08-04| 15|4000.25| 859.4366926962348|\n",
            "|  5|      Preeti upadhya|2024-08-05| 30| 1500.3|1718.8733853924696|\n",
            "|  6|           jhon snow|2024-08-06| 32|2500.45|1833.4649444186343|\n",
            "+---+--------------------+----------+---+-------+------------------+\n",
            "\n",
            "None\n",
            "+---+--------------------+----------+---+-------+-------------------+\n",
            "| id|                name|       dob|age| salary|      radians_value|\n",
            "+---+--------------------+----------+---+-------+-------------------+\n",
            "|  1|      shikhakarmokar|2024-08-01| 14| 1000.5|0.24434609527920614|\n",
            "|  2|adithya ramakrishnan|2024-08-02| 25|2000.75| 0.4363323129985824|\n",
            "|  3|        aditee patil|2024-08-03| 20| 3000.1| 0.3490658503988659|\n",
            "|  4|      Bhavana Mishra|2024-08-04| 15|4000.25| 0.2617993877991494|\n",
            "|  5|      Preeti upadhya|2024-08-05| 30| 1500.3| 0.5235987755982988|\n",
            "|  6|           jhon snow|2024-08-06| 32|2500.45| 0.5585053606381855|\n",
            "+---+--------------------+----------+---+-------+-------------------+\n",
            "\n",
            "None\n"
          ]
        }
      ]
    },
    {
      "cell_type": "code",
      "source": [
        "#signum\n",
        "#Computes the signum of a number: -1 if it's negative, 0 if it's zero, and 1 if it's positive\n",
        "\n",
        "from pyspark.sql.functions import signum\n",
        "\n",
        "df_signum_shikha = df_shikha.withColumn(\"signum_value\",signum(col(\"age\")))\n",
        "df_signum_shikha.show()\n"
      ],
      "metadata": {
        "colab": {
          "base_uri": "https://localhost:8080/"
        },
        "id": "lqVoPywTsXlQ",
        "outputId": "552af90b-3afe-4026-d94d-6ce8d78d1bb1"
      },
      "execution_count": null,
      "outputs": [
        {
          "output_type": "stream",
          "name": "stdout",
          "text": [
            "+---+--------------------+----------+---+-------+------------+\n",
            "| id|                name|       dob|age| salary|signum_value|\n",
            "+---+--------------------+----------+---+-------+------------+\n",
            "|  1|      shikhakarmokar|2024-08-01| 14| 1000.5|         1.0|\n",
            "|  2|adithya ramakrishnan|2024-08-02| 25|2000.75|         1.0|\n",
            "|  3|        aditee patil|2024-08-03| 20| 3000.1|         1.0|\n",
            "|  4|      Bhavana Mishra|2024-08-04| 15|4000.25|         1.0|\n",
            "|  5|      Preeti upadhya|2024-08-05| 30| 1500.3|         1.0|\n",
            "|  6|           jhon snow|2024-08-06| 32|2500.45|         1.0|\n",
            "+---+--------------------+----------+---+-------+------------+\n",
            "\n"
          ]
        }
      ]
    },
    {
      "cell_type": "code",
      "source": [
        "#hex, unhex\n",
        "#Converts a column to hexadecimal and back.\n",
        "\n",
        "from pyspark.sql.functions import hex,unhex\n",
        "df_all_shikha = df_shikha.withColumn(\"hex_name\",hex(col(\"id\"))).withColumn(\"unhex_name\",unhex(hex(col(\"id\"))))\n",
        "df_all_shikha.show()"
      ],
      "metadata": {
        "colab": {
          "base_uri": "https://localhost:8080/"
        },
        "id": "ZxRsBkNSs0hP",
        "outputId": "c4d2ce0c-ff49-4910-ebd5-cba1c180135b"
      },
      "execution_count": null,
      "outputs": [
        {
          "output_type": "stream",
          "name": "stdout",
          "text": [
            "+---+--------------------+----------+---+-------+--------+----------+\n",
            "| id|                name|       dob|age| salary|hex_name|unhex_name|\n",
            "+---+--------------------+----------+---+-------+--------+----------+\n",
            "|  1|      shikhakarmokar|2024-08-01| 14| 1000.5|       1|      [01]|\n",
            "|  2|adithya ramakrishnan|2024-08-02| 25|2000.75|       2|      [02]|\n",
            "|  3|        aditee patil|2024-08-03| 20| 3000.1|       3|      [03]|\n",
            "|  4|      Bhavana Mishra|2024-08-04| 15|4000.25|       4|      [04]|\n",
            "|  5|      Preeti upadhya|2024-08-05| 30| 1500.3|       5|      [05]|\n",
            "|  6|           jhon snow|2024-08-06| 32|2500.45|       6|      [06]|\n",
            "+---+--------------------+----------+---+-------+--------+----------+\n",
            "\n"
          ]
        }
      ]
    },
    {
      "cell_type": "code",
      "source": [
        "#nvl,nvl2\n",
        "\n",
        "\n",
        "from pyspark.sql.functions import nvl,nvl2,col\n",
        "df_nvl_shikha = df_shikha.withColumn(\"nvl_age\",nvl(col(\"age\"),col(\"id\")))\n",
        "print(df_nvl_shikha.show())\n",
        "\n",
        "df_nvl2_shikha = df_shikha.withColumn(\"nvl2_age\",nvl2(col(\"age\"),col(\"id\"),col(\"salary\")))\n",
        "print(df_nvl2_shikha.show())"
      ],
      "metadata": {
        "colab": {
          "base_uri": "https://localhost:8080/"
        },
        "id": "ALdUAfactbHB",
        "outputId": "2d8ece84-1d2d-47c5-8665-31f159d19b4b"
      },
      "execution_count": null,
      "outputs": [
        {
          "output_type": "stream",
          "name": "stdout",
          "text": [
            "+---+--------------------+----------+---+-------+-------+\n",
            "| id|                name|       dob|age| salary|nvl_age|\n",
            "+---+--------------------+----------+---+-------+-------+\n",
            "|  1|      shikhakarmokar|2024-08-01| 14| 1000.5|     14|\n",
            "|  2|adithya ramakrishnan|2024-08-02| 25|2000.75|     25|\n",
            "|  3|        aditee patil|2024-08-03| 20| 3000.1|     20|\n",
            "|  4|      Bhavana Mishra|2024-08-04| 15|4000.25|     15|\n",
            "|  5|      Preeti upadhya|2024-08-05| 30| 1500.3|     30|\n",
            "|  6|           jhon snow|2024-08-06| 32|2500.45|     32|\n",
            "+---+--------------------+----------+---+-------+-------+\n",
            "\n",
            "None\n",
            "+---+--------------------+----------+---+-------+--------+\n",
            "| id|                name|       dob|age| salary|nvl2_age|\n",
            "+---+--------------------+----------+---+-------+--------+\n",
            "|  1|      shikhakarmokar|2024-08-01| 14| 1000.5|     1.0|\n",
            "|  2|adithya ramakrishnan|2024-08-02| 25|2000.75|     2.0|\n",
            "|  3|        aditee patil|2024-08-03| 20| 3000.1|     3.0|\n",
            "|  4|      Bhavana Mishra|2024-08-04| 15|4000.25|     4.0|\n",
            "|  5|      Preeti upadhya|2024-08-05| 30| 1500.3|     5.0|\n",
            "|  6|           jhon snow|2024-08-06| 32|2500.45|     6.0|\n",
            "+---+--------------------+----------+---+-------+--------+\n",
            "\n",
            "None\n"
          ]
        }
      ]
    },
    {
      "cell_type": "code",
      "source": [
        "#reverse\n",
        "from pyspark.sql.functions import reverse\n",
        "df_reverse_shikha = df_shikha.withColumn(\"reversed_name\",reverse(col(\"name\")))\n",
        "df_reverse_shikha.show()"
      ],
      "metadata": {
        "colab": {
          "base_uri": "https://localhost:8080/"
        },
        "id": "5KNNTEbZt-Oa",
        "outputId": "536da43e-dd21-4c9a-e173-eaef5d446221"
      },
      "execution_count": null,
      "outputs": [
        {
          "output_type": "stream",
          "name": "stdout",
          "text": [
            "+---+--------------------+----------+---+-------+--------------------+\n",
            "| id|                name|       dob|age| salary|       reversed_name|\n",
            "+---+--------------------+----------+---+-------+--------------------+\n",
            "|  1|      shikhakarmokar|2024-08-01| 14| 1000.5|      rakomrakahkihs|\n",
            "|  2|adithya ramakrishnan|2024-08-02| 25|2000.75|nanhsirkamar ayhtida|\n",
            "|  3|        aditee patil|2024-08-03| 20| 3000.1|        litap eetida|\n",
            "|  4|      Bhavana Mishra|2024-08-04| 15|4000.25|      arhsiM anavahB|\n",
            "|  5|      Preeti upadhya|2024-08-05| 30| 1500.3|      ayhdapu iteerP|\n",
            "|  6|           jhon snow|2024-08-06| 32|2500.45|           wons nohj|\n",
            "+---+--------------------+----------+---+-------+--------------------+\n",
            "\n"
          ]
        }
      ]
    },
    {
      "cell_type": "code",
      "source": [
        "#initcap\n",
        "from pyspark.sql.functions import initcap\n",
        "df_initcap_shikha = df_shikha.withColumn(\"capitalized_name\",initcap(col(\"name\")))\n",
        "df_initcap_shikha.show()"
      ],
      "metadata": {
        "colab": {
          "base_uri": "https://localhost:8080/"
        },
        "id": "-UgamHiHuvFB",
        "outputId": "99657c85-2a08-4546-8c2f-f4c445c4d3e6"
      },
      "execution_count": null,
      "outputs": [
        {
          "output_type": "stream",
          "name": "stdout",
          "text": [
            "+---+--------------------+----------+---+-------+--------------------+\n",
            "| id|                name|       dob|age| salary|    capitalized_name|\n",
            "+---+--------------------+----------+---+-------+--------------------+\n",
            "|  1|      shikhakarmokar|2024-08-01| 14| 1000.5|      Shikhakarmokar|\n",
            "|  2|adithya ramakrishnan|2024-08-02| 25|2000.75|Adithya Ramakrishnan|\n",
            "|  3|        aditee patil|2024-08-03| 20| 3000.1|        Aditee Patil|\n",
            "|  4|      Bhavana Mishra|2024-08-04| 15|4000.25|      Bhavana Mishra|\n",
            "|  5|      Preeti upadhya|2024-08-05| 30| 1500.3|      Preeti Upadhya|\n",
            "|  6|           jhon snow|2024-08-06| 32|2500.45|           Jhon Snow|\n",
            "+---+--------------------+----------+---+-------+--------------------+\n",
            "\n"
          ]
        }
      ]
    },
    {
      "cell_type": "code",
      "source": [
        "#instr\n",
        "\n",
        "from pyspark.sql.functions import instr\n",
        "\n",
        "df_instr_shikha = df_shikha.withColumn(\"position_of_a\",instr(col(\"name\"),\"a\"))\n",
        "print(df_instr_shikha.show())\n",
        "print(df_instr_shikha.printSchema())"
      ],
      "metadata": {
        "colab": {
          "base_uri": "https://localhost:8080/"
        },
        "id": "moot8jpCvH6_",
        "outputId": "40a50b29-3fc8-464a-d814-e7a32f5a632f"
      },
      "execution_count": null,
      "outputs": [
        {
          "output_type": "stream",
          "name": "stdout",
          "text": [
            "+---+--------------------+----------+---+-------+-------------+\n",
            "| id|                name|       dob|age| salary|position_of_a|\n",
            "+---+--------------------+----------+---+-------+-------------+\n",
            "|  1|      shikhakarmokar|2024-08-01| 14| 1000.5|            6|\n",
            "|  2|adithya ramakrishnan|2024-08-02| 25|2000.75|            1|\n",
            "|  3|        aditee patil|2024-08-03| 20| 3000.1|            1|\n",
            "|  4|      Bhavana Mishra|2024-08-04| 15|4000.25|            3|\n",
            "|  5|      Preeti upadhya|2024-08-05| 30| 1500.3|           10|\n",
            "|  6|           jhon snow|2024-08-06| 32|2500.45|            0|\n",
            "+---+--------------------+----------+---+-------+-------------+\n",
            "\n",
            "None\n",
            "root\n",
            " |-- id: long (nullable = true)\n",
            " |-- name: string (nullable = true)\n",
            " |-- dob: string (nullable = true)\n",
            " |-- age: long (nullable = true)\n",
            " |-- salary: double (nullable = true)\n",
            " |-- position_of_a: integer (nullable = true)\n",
            "\n",
            "None\n"
          ]
        }
      ]
    },
    {
      "cell_type": "code",
      "source": [
        "#locate\n",
        "from pyspark.sql.functions import locate\n",
        "df_locate_shikha = df_shikha.withColumn(\"locate_snow\",locate(\"snow\",col(\"name\")))\n",
        "df_locate_shikha.show()"
      ],
      "metadata": {
        "colab": {
          "base_uri": "https://localhost:8080/"
        },
        "id": "9-kWBE3Nvocw",
        "outputId": "8338e469-de3d-44ee-fa16-a76c2d8a7b6a"
      },
      "execution_count": null,
      "outputs": [
        {
          "output_type": "stream",
          "name": "stdout",
          "text": [
            "+---+--------------------+----------+---+-------+-----------+\n",
            "| id|                name|       dob|age| salary|locate_snow|\n",
            "+---+--------------------+----------+---+-------+-----------+\n",
            "|  1|      shikhakarmokar|2024-08-01| 14| 1000.5|          0|\n",
            "|  2|adithya ramakrishnan|2024-08-02| 25|2000.75|          0|\n",
            "|  3|        aditee patil|2024-08-03| 20| 3000.1|          0|\n",
            "|  4|      Bhavana Mishra|2024-08-04| 15|4000.25|          0|\n",
            "|  5|      Preeti upadhya|2024-08-05| 30| 1500.3|          0|\n",
            "|  6|           jhon snow|2024-08-06| 32|2500.45|          6|\n",
            "+---+--------------------+----------+---+-------+-----------+\n",
            "\n"
          ]
        }
      ]
    },
    {
      "cell_type": "code",
      "source": [
        "#soundex\n",
        "from pyspark.sql.functions import soundex\n",
        "df_soundex_shikha = df_shikha.withColumn(\"soundex_name\",soundex(col(\"name\")))\n",
        "df_soundex_shikha.show()"
      ],
      "metadata": {
        "colab": {
          "base_uri": "https://localhost:8080/"
        },
        "id": "y_Rk-Ap7wKRP",
        "outputId": "83b9bcf9-170f-48fc-830e-df02a7985eba"
      },
      "execution_count": null,
      "outputs": [
        {
          "output_type": "stream",
          "name": "stdout",
          "text": [
            "+---+--------------------+----------+---+-------+------------+\n",
            "| id|                name|       dob|age| salary|soundex_name|\n",
            "+---+--------------------+----------+---+-------+------------+\n",
            "|  1|      shikhakarmokar|2024-08-01| 14| 1000.5|        S226|\n",
            "|  2|adithya ramakrishnan|2024-08-02| 25|2000.75|        A336|\n",
            "|  3|        aditee patil|2024-08-03| 20| 3000.1|        A331|\n",
            "|  4|      Bhavana Mishra|2024-08-04| 15|4000.25|        B155|\n",
            "|  5|      Preeti upadhya|2024-08-05| 30| 1500.3|        P631|\n",
            "|  6|           jhon snow|2024-08-06| 32|2500.45|        J525|\n",
            "+---+--------------------+----------+---+-------+------------+\n",
            "\n"
          ]
        }
      ]
    },
    {
      "cell_type": "code",
      "source": [
        "#loevenshtein\n",
        "\n",
        "from pyspark.sql.functions import levenshtein\n",
        "df_levenshtein_shikha = df_shikha.withColumn(\"levenshtein_distance\",levenshtein(col(\"name\"),lit(\"john snow\")))\n",
        "df_levenshtein_shikha.show()"
      ],
      "metadata": {
        "colab": {
          "base_uri": "https://localhost:8080/"
        },
        "id": "kYNAlvjHwshX",
        "outputId": "1ef9d095-05f9-4449-82e9-2aed3bcb3211"
      },
      "execution_count": null,
      "outputs": [
        {
          "output_type": "stream",
          "name": "stdout",
          "text": [
            "+---+--------------------+----------+---+-------+--------------------+\n",
            "| id|                name|       dob|age| salary|levenshtein_distance|\n",
            "+---+--------------------+----------+---+-------+--------------------+\n",
            "|  1|      shikhakarmokar|2024-08-01| 14| 1000.5|                  12|\n",
            "|  2|adithya ramakrishnan|2024-08-02| 25|2000.75|                  16|\n",
            "|  3|        aditee patil|2024-08-03| 20| 3000.1|                  11|\n",
            "|  4|      Bhavana Mishra|2024-08-04| 15|4000.25|                  11|\n",
            "|  5|      Preeti upadhya|2024-08-05| 30| 1500.3|                  13|\n",
            "|  6|           jhon snow|2024-08-06| 32|2500.45|                   2|\n",
            "+---+--------------------+----------+---+-------+--------------------+\n",
            "\n"
          ]
        }
      ]
    },
    {
      "cell_type": "code",
      "source": [
        "#conv\n",
        "from pyspark.sql.functions import conv\n",
        "df_conv_shikha = df_shikha.withColumn(\"binary_value\",conv(col(\"id\"),10,2))\n",
        "df_conv_shikha.show()"
      ],
      "metadata": {
        "colab": {
          "base_uri": "https://localhost:8080/"
        },
        "id": "GSCpXbOjxKAh",
        "outputId": "b4d3142c-054d-4033-f51d-d7f3298e3053"
      },
      "execution_count": null,
      "outputs": [
        {
          "output_type": "stream",
          "name": "stdout",
          "text": [
            "+---+--------------------+----------+---+-------+------------+\n",
            "| id|                name|       dob|age| salary|binary_value|\n",
            "+---+--------------------+----------+---+-------+------------+\n",
            "|  1|      shikhakarmokar|2024-08-01| 14| 1000.5|           1|\n",
            "|  2|adithya ramakrishnan|2024-08-02| 25|2000.75|          10|\n",
            "|  3|        aditee patil|2024-08-03| 20| 3000.1|          11|\n",
            "|  4|      Bhavana Mishra|2024-08-04| 15|4000.25|         100|\n",
            "|  5|      Preeti upadhya|2024-08-05| 30| 1500.3|         101|\n",
            "|  6|           jhon snow|2024-08-06| 32|2500.45|         110|\n",
            "+---+--------------------+----------+---+-------+------------+\n",
            "\n"
          ]
        }
      ]
    },
    {
      "cell_type": "code",
      "source": [
        "#translate\n",
        "from pyspark.sql.functions import translate\n",
        "df_translate_shikha = df_shikha.withColumn(\"translated_name\",translate(col(\"name\"),\"o\",\"a\"))\n",
        "df_translate_shikha.show()"
      ],
      "metadata": {
        "colab": {
          "base_uri": "https://localhost:8080/"
        },
        "id": "Az6Es905xgh_",
        "outputId": "aa031312-ae93-4ef5-cb06-026272b48a20"
      },
      "execution_count": null,
      "outputs": [
        {
          "output_type": "stream",
          "name": "stdout",
          "text": [
            "+---+--------------------+----------+---+-------+--------------------+\n",
            "| id|                name|       dob|age| salary|     translated_name|\n",
            "+---+--------------------+----------+---+-------+--------------------+\n",
            "|  1|      shikhakarmokar|2024-08-01| 14| 1000.5|      shikhakarmakar|\n",
            "|  2|adithya ramakrishnan|2024-08-02| 25|2000.75|adithya ramakrishnan|\n",
            "|  3|        aditee patil|2024-08-03| 20| 3000.1|        aditee patil|\n",
            "|  4|      Bhavana Mishra|2024-08-04| 15|4000.25|      Bhavana Mishra|\n",
            "|  5|      Preeti upadhya|2024-08-05| 30| 1500.3|      Preeti upadhya|\n",
            "|  6|           jhon snow|2024-08-06| 32|2500.45|           jhan snaw|\n",
            "+---+--------------------+----------+---+-------+--------------------+\n",
            "\n"
          ]
        }
      ]
    },
    {
      "cell_type": "code",
      "source": [
        "#crc32\n",
        "from pyspark.sql.functions import crc32\n",
        "df_crc32_shikha = df_shikha.withColumn(\"crc32_name\",crc32(col(\"name\")))\n",
        "df_crc32_shikha.show()"
      ],
      "metadata": {
        "colab": {
          "base_uri": "https://localhost:8080/"
        },
        "id": "96Y4z5drx7eH",
        "outputId": "2fcf44ed-0951-47b5-a324-d4d271d4f44e"
      },
      "execution_count": null,
      "outputs": [
        {
          "output_type": "stream",
          "name": "stdout",
          "text": [
            "+---+--------------------+----------+---+-------+----------+\n",
            "| id|                name|       dob|age| salary|crc32_name|\n",
            "+---+--------------------+----------+---+-------+----------+\n",
            "|  1|      shikhakarmokar|2024-08-01| 14| 1000.5|1044454660|\n",
            "|  2|adithya ramakrishnan|2024-08-02| 25|2000.75|1813306881|\n",
            "|  3|        aditee patil|2024-08-03| 20| 3000.1| 925907906|\n",
            "|  4|      Bhavana Mishra|2024-08-04| 15|4000.25|3331490912|\n",
            "|  5|      Preeti upadhya|2024-08-05| 30| 1500.3|1821831089|\n",
            "|  6|           jhon snow|2024-08-06| 32|2500.45|3041698583|\n",
            "+---+--------------------+----------+---+-------+----------+\n",
            "\n"
          ]
        }
      ]
    },
    {
      "cell_type": "code",
      "source": [
        "#uuid\n",
        "from pyspark.sql.functions import expr\n",
        "df_uuid_shikha = df_shikha.withColumn(\"uuid\",expr(\"uuid()\"))\n",
        "df_uuid_shikha.show(truncate=False)"
      ],
      "metadata": {
        "colab": {
          "base_uri": "https://localhost:8080/"
        },
        "id": "tY6MfpgHyRlP",
        "outputId": "748703d0-11bc-485e-b3f4-ad268240fd72"
      },
      "execution_count": null,
      "outputs": [
        {
          "output_type": "stream",
          "name": "stdout",
          "text": [
            "+---+--------------------+----------+---+-------+------------------------------------+\n",
            "|id |name                |dob       |age|salary |uuid                                |\n",
            "+---+--------------------+----------+---+-------+------------------------------------+\n",
            "|1  |shikhakarmokar      |2024-08-01|14 |1000.5 |2b5ac41e-4dbe-40fc-9357-4e04c640e294|\n",
            "|2  |adithya ramakrishnan|2024-08-02|25 |2000.75|d79ebc05-2936-4fb3-9260-f795fb10584b|\n",
            "|3  |aditee patil        |2024-08-03|20 |3000.1 |28bba04b-a229-4bb9-b29b-64c14f1ef46f|\n",
            "|4  |Bhavana Mishra      |2024-08-04|15 |4000.25|37922b30-1e77-43e0-8e9b-7a404b927278|\n",
            "|5  |Preeti upadhya      |2024-08-05|30 |1500.3 |d4ff5f88-0188-4f97-b9ec-2b9d65dbb28e|\n",
            "|6  |jhon snow           |2024-08-06|32 |2500.45|891ee715-b423-4deb-b4cb-0346386f50be|\n",
            "+---+--------------------+----------+---+-------+------------------------------------+\n",
            "\n"
          ]
        }
      ]
    },
    {
      "cell_type": "code",
      "source": [
        "#percent_rank\n",
        "from pyspark.sql.functions import percent_rank\n",
        "windowSpec_shikha = Window.orderBy(col(\"salary\").desc())\n",
        "df_percent_rank = df_shikha.withColumn(\"percent_rank\",percent_rank().over(windowSpec_shikha))\n",
        "df_percent_rank.show()"
      ],
      "metadata": {
        "colab": {
          "base_uri": "https://localhost:8080/"
        },
        "id": "WKR0tejcyn7B",
        "outputId": "71f4f22b-37b1-4fd8-ad2d-fda85960431e"
      },
      "execution_count": null,
      "outputs": [
        {
          "output_type": "stream",
          "name": "stdout",
          "text": [
            "+---+--------------------+----------+---+-------+------------+\n",
            "| id|                name|       dob|age| salary|percent_rank|\n",
            "+---+--------------------+----------+---+-------+------------+\n",
            "|  4|      Bhavana Mishra|2024-08-04| 15|4000.25|         0.0|\n",
            "|  3|        aditee patil|2024-08-03| 20| 3000.1|         0.2|\n",
            "|  6|           jhon snow|2024-08-06| 32|2500.45|         0.4|\n",
            "|  2|adithya ramakrishnan|2024-08-02| 25|2000.75|         0.6|\n",
            "|  5|      Preeti upadhya|2024-08-05| 30| 1500.3|         0.8|\n",
            "|  1|      shikhakarmokar|2024-08-01| 14| 1000.5|         1.0|\n",
            "+---+--------------------+----------+---+-------+------------+\n",
            "\n"
          ]
        }
      ]
    },
    {
      "cell_type": "code",
      "source": [
        "#cume_dist\n",
        "\n",
        "from pyspark.sql.functions import cume_dist\n",
        "df_cume_dist_shikha = df_shikha.withColumn(\"cume_dist\",cume_dist().over(windowSpec_shikha))\n",
        "df_cume_dist_shikha.show()"
      ],
      "metadata": {
        "colab": {
          "base_uri": "https://localhost:8080/"
        },
        "id": "qoUrQvwwzQdk",
        "outputId": "167b5c92-e3bd-49bd-d00f-e16a538bd256"
      },
      "execution_count": null,
      "outputs": [
        {
          "output_type": "stream",
          "name": "stdout",
          "text": [
            "+---+--------------------+----------+---+-------+-------------------+\n",
            "| id|                name|       dob|age| salary|          cume_dist|\n",
            "+---+--------------------+----------+---+-------+-------------------+\n",
            "|  4|      Bhavana Mishra|2024-08-04| 15|4000.25|0.16666666666666666|\n",
            "|  3|        aditee patil|2024-08-03| 20| 3000.1| 0.3333333333333333|\n",
            "|  6|           jhon snow|2024-08-06| 32|2500.45|                0.5|\n",
            "|  2|adithya ramakrishnan|2024-08-02| 25|2000.75| 0.6666666666666666|\n",
            "|  5|      Preeti upadhya|2024-08-05| 30| 1500.3| 0.8333333333333334|\n",
            "|  1|      shikhakarmokar|2024-08-01| 14| 1000.5|                1.0|\n",
            "+---+--------------------+----------+---+-------+-------------------+\n",
            "\n"
          ]
        }
      ]
    },
    {
      "cell_type": "code",
      "source": [
        "#ntile\n",
        "from pyspark.sql.functions import ntile\n",
        "df_ntile_shikha = df_shikha.withColumn(\"ntile\",ntile(3).over(windowSpec_shikha))\n",
        "df_ntile_shikha.show()"
      ],
      "metadata": {
        "colab": {
          "base_uri": "https://localhost:8080/"
        },
        "id": "ZGqPo0muzphC",
        "outputId": "f2c95c61-50ba-497b-d6aa-38eab0be1bad"
      },
      "execution_count": null,
      "outputs": [
        {
          "output_type": "stream",
          "name": "stdout",
          "text": [
            "+---+--------------------+----------+---+-------+-----+\n",
            "| id|                name|       dob|age| salary|ntile|\n",
            "+---+--------------------+----------+---+-------+-----+\n",
            "|  4|      Bhavana Mishra|2024-08-04| 15|4000.25|    1|\n",
            "|  3|        aditee patil|2024-08-03| 20| 3000.1|    1|\n",
            "|  6|           jhon snow|2024-08-06| 32|2500.45|    2|\n",
            "|  2|adithya ramakrishnan|2024-08-02| 25|2000.75|    2|\n",
            "|  5|      Preeti upadhya|2024-08-05| 30| 1500.3|    3|\n",
            "|  1|      shikhakarmokar|2024-08-01| 14| 1000.5|    3|\n",
            "+---+--------------------+----------+---+-------+-----+\n",
            "\n"
          ]
        }
      ]
    },
    {
      "cell_type": "code",
      "source": [
        "#flatten\n",
        "from pyspark.sql.functions import flatten\n",
        "df_flatten_shikha = df_shikha.withColumn(\"flattened_array\",flatten(array(array(lit(1),lit(2)),array(lit(3)))))\n",
        "df_flatten_shikha.show()"
      ],
      "metadata": {
        "colab": {
          "base_uri": "https://localhost:8080/"
        },
        "id": "fjdOZ4mxz_vg",
        "outputId": "f0e41185-bd0b-4d8a-849a-d0a8cd4f6f91"
      },
      "execution_count": null,
      "outputs": [
        {
          "output_type": "stream",
          "name": "stdout",
          "text": [
            "+---+--------------------+----------+---+-------+---------------+\n",
            "| id|                name|       dob|age| salary|flattened_array|\n",
            "+---+--------------------+----------+---+-------+---------------+\n",
            "|  1|      shikhakarmokar|2024-08-01| 14| 1000.5|      [1, 2, 3]|\n",
            "|  2|adithya ramakrishnan|2024-08-02| 25|2000.75|      [1, 2, 3]|\n",
            "|  3|        aditee patil|2024-08-03| 20| 3000.1|      [1, 2, 3]|\n",
            "|  4|      Bhavana Mishra|2024-08-04| 15|4000.25|      [1, 2, 3]|\n",
            "|  5|      Preeti upadhya|2024-08-05| 30| 1500.3|      [1, 2, 3]|\n",
            "|  6|           jhon snow|2024-08-06| 32|2500.45|      [1, 2, 3]|\n",
            "+---+--------------------+----------+---+-------+---------------+\n",
            "\n"
          ]
        }
      ]
    },
    {
      "cell_type": "code",
      "source": [
        "#grouping\n",
        "from pyspark.sql.functions import grouping_id\n",
        "from pyspark.sql import functions as F\n",
        "df_grouping_set_shikha = df_shikha.cube(\"age\", \"salary\").agg(grouping_id().alias(\"grouping_id\"), F.sum(\"salary\"))\n",
        "df_grouping_set_shikha.show()\n"
      ],
      "metadata": {
        "colab": {
          "base_uri": "https://localhost:8080/"
        },
        "id": "ls23yaDN0XP4",
        "outputId": "4c10784e-1877-4eb3-faca-0222efcfd9c2"
      },
      "execution_count": null,
      "outputs": [
        {
          "output_type": "stream",
          "name": "stdout",
          "text": [
            "+----+-------+-----------+-----------+\n",
            "| age| salary|grouping_id|sum(salary)|\n",
            "+----+-------+-----------+-----------+\n",
            "|  14|   NULL|          1|     1000.5|\n",
            "|NULL| 1000.5|          2|     1000.5|\n",
            "|  14| 1000.5|          0|     1000.5|\n",
            "|  25|   NULL|          1|    2000.75|\n",
            "|  25|2000.75|          0|    2000.75|\n",
            "|NULL| 3000.1|          2|     3000.1|\n",
            "|  20| 3000.1|          0|     3000.1|\n",
            "|NULL|   NULL|          3|   14002.35|\n",
            "|  20|   NULL|          1|     3000.1|\n",
            "|NULL|2000.75|          2|    2000.75|\n",
            "|NULL| 1500.3|          2|     1500.3|\n",
            "|  32|   NULL|          1|    2500.45|\n",
            "|  30| 1500.3|          0|     1500.3|\n",
            "|NULL|4000.25|          2|    4000.25|\n",
            "|  32|2500.45|          0|    2500.45|\n",
            "|  15|   NULL|          1|    4000.25|\n",
            "|NULL|2500.45|          2|    2500.45|\n",
            "|  30|   NULL|          1|     1500.3|\n",
            "|  15|4000.25|          0|    4000.25|\n",
            "+----+-------+-----------+-----------+\n",
            "\n"
          ]
        }
      ]
    },
    {
      "cell_type": "code",
      "source": [
        "#roll up\n",
        "df_rollup_shikha = df_shikha.rollup(\"age\",\"salary\").count()\n",
        "df_rollup_shikha.show()"
      ],
      "metadata": {
        "colab": {
          "base_uri": "https://localhost:8080/"
        },
        "id": "qtkbmqcs1R27",
        "outputId": "f805d287-79e8-4904-c6ce-55ae419d5be6"
      },
      "execution_count": null,
      "outputs": [
        {
          "output_type": "stream",
          "name": "stdout",
          "text": [
            "+----+-------+-----+\n",
            "| age| salary|count|\n",
            "+----+-------+-----+\n",
            "|  14|   NULL|    1|\n",
            "|  14| 1000.5|    1|\n",
            "|  25|   NULL|    1|\n",
            "|  25|2000.75|    1|\n",
            "|  20| 3000.1|    1|\n",
            "|NULL|   NULL|    6|\n",
            "|  20|   NULL|    1|\n",
            "|  32|   NULL|    1|\n",
            "|  30| 1500.3|    1|\n",
            "|  32|2500.45|    1|\n",
            "|  15|   NULL|    1|\n",
            "|  30|   NULL|    1|\n",
            "|  15|4000.25|    1|\n",
            "+----+-------+-----+\n",
            "\n"
          ]
        }
      ]
    },
    {
      "cell_type": "code",
      "source": [
        "#corr\n",
        "from pyspark.sql.functions import corr\n",
        "df_corr_shikha = df_shikha.select(corr(col(\"age\"),col(\"salary\")))\n",
        "df_corr_shikha.show()"
      ],
      "metadata": {
        "colab": {
          "base_uri": "https://localhost:8080/"
        },
        "id": "eFIL8WfB1lln",
        "outputId": "6aaa7e32-a827-4c0b-c17f-97add43969ea"
      },
      "execution_count": null,
      "outputs": [
        {
          "output_type": "stream",
          "name": "stdout",
          "text": [
            "+--------------------+\n",
            "|   corr(age, salary)|\n",
            "+--------------------+\n",
            "|-0.20352956632473357|\n",
            "+--------------------+\n",
            "\n"
          ]
        }
      ]
    },
    {
      "cell_type": "code",
      "source": [
        "#collect_list\n",
        "from pyspark.sql.functions import collect_list\n",
        "\n",
        "df_all_shikha = df_shikha.groupBy(\"age\").agg(collect_list(\"name\").alias(\"names\")).show()\n",
        "df_all_shikha"
      ],
      "metadata": {
        "colab": {
          "base_uri": "https://localhost:8080/"
        },
        "id": "-kocAjy215XA",
        "outputId": "67fe75e8-29ca-4e31-c625-db222155a3af"
      },
      "execution_count": null,
      "outputs": [
        {
          "output_type": "stream",
          "name": "stdout",
          "text": [
            "+---+--------------------+\n",
            "|age|               names|\n",
            "+---+--------------------+\n",
            "| 25|[adithya ramakris...|\n",
            "| 14|    [shikhakarmokar]|\n",
            "| 20|      [aditee patil]|\n",
            "| 32|         [jhon snow]|\n",
            "| 15|    [Bhavana Mishra]|\n",
            "| 30|    [Preeti upadhya]|\n",
            "+---+--------------------+\n",
            "\n"
          ]
        }
      ]
    },
    {
      "cell_type": "code",
      "source": [],
      "metadata": {
        "id": "z7UDunDh2DCo"
      },
      "execution_count": null,
      "outputs": []
    }
  ]
}